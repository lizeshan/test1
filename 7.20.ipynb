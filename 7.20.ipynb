{
 "cells": [
  {
   "cell_type": "markdown",
   "metadata": {},
   "source": [
    "# 函数\n",
    "\n",
    "- 函数可以用来定义可重复代码，组织和简化\n",
    "- 一般来说一个函数在实际开发中为一个小功能\n",
    "- 一个类为一个大功能\n",
    "- 同样函数的长度不要超过一屏"
   ]
  },
  {
   "cell_type": "code",
   "execution_count": 8,
   "metadata": {},
   "outputs": [],
   "source": [
    "def Joekr():\n",
    "    print(\"joker hahah\")\n",
    "\n"
   ]
  },
  {
   "cell_type": "code",
   "execution_count": 9,
   "metadata": {},
   "outputs": [
    {
     "name": "stdout",
     "output_type": "stream",
     "text": [
      "joker hahah\n"
     ]
    }
   ],
   "source": [
    "Joekr()"
   ]
  },
  {
   "cell_type": "code",
   "execution_count": 12,
   "metadata": {},
   "outputs": [],
   "source": [
    "def lifang():\n",
    "    \"\"\"zheshi\"\"\"\n",
    "    number=int(input(\"shurushuzi\"))\n",
    "    print(number**3)\n",
    "    "
   ]
  },
  {
   "cell_type": "code",
   "execution_count": 13,
   "metadata": {},
   "outputs": [
    {
     "name": "stdout",
     "output_type": "stream",
     "text": [
      "shurushuzi10\n",
      "1000\n"
     ]
    }
   ],
   "source": [
    "lifang()"
   ]
  },
  {
   "cell_type": "code",
   "execution_count": 14,
   "metadata": {},
   "outputs": [],
   "source": [
    "def lifang():\n",
    "    \"\"\"zheshi\"\"\"\n",
    "    number=int(input(\"shurushuzi\"))\n",
    "    return  number**3,number**2\n",
    "    "
   ]
  },
  {
   "cell_type": "code",
   "execution_count": 15,
   "metadata": {},
   "outputs": [
    {
     "name": "stdout",
     "output_type": "stream",
     "text": [
      "shurushuzi10\n",
      "1000 100\n"
     ]
    }
   ],
   "source": [
    "res,res2=lifang()\n",
    "print(res,res2)"
   ]
  },
  {
   "cell_type": "code",
   "execution_count": 20,
   "metadata": {},
   "outputs": [],
   "source": [
    "def shuru():\n",
    "    number=int(input(\"shurushuzi\"))\n",
    "    return number\n",
    "def fanhui():\n",
    "    return number**2\n",
    "\n"
   ]
  },
  {
   "cell_type": "markdown",
   "metadata": {},
   "source": [
    "## 定义一个函数\n",
    "\n",
    "def function_name(list of parameters):\n",
    "    \n",
    "    do something\n",
    "![](../Photo/69.png)\n",
    "- 以前使用的random 或者range 或者print.. 其实都是函数或者类"
   ]
  },
  {
   "cell_type": "markdown",
   "metadata": {},
   "source": [
    "## 调用一个函数\n",
    "- functionName()\n",
    "- \"()\" 就代表调用"
   ]
  },
  {
   "cell_type": "markdown",
   "metadata": {},
   "source": [
    "![](../Photo/70.png)"
   ]
  },
  {
   "cell_type": "markdown",
   "metadata": {},
   "source": [
    "## 带返回值和不带返回值的函数\n",
    "- return 返回的内容\n",
    "- return 返回多个值\n",
    "- 一般情况下，在多个函数协同完成一个功能的时候，那么将会有返回值"
   ]
  },
  {
   "cell_type": "markdown",
   "metadata": {},
   "source": [
    "![](../Photo/71.png)\n",
    "\n",
    "- 当然也可以自定义返回None"
   ]
  },
  {
   "cell_type": "markdown",
   "metadata": {},
   "source": [
    "## EP：\n",
    "![](../Photo/72.png)"
   ]
  },
  {
   "cell_type": "code",
   "execution_count": 29,
   "metadata": {},
   "outputs": [],
   "source": [
    "def test2():\n",
    "    print(\"ga\")\n",
    "def test1():\n",
    "    test2()\n",
    "    \n"
   ]
  },
  {
   "cell_type": "code",
   "execution_count": 30,
   "metadata": {},
   "outputs": [
    {
     "name": "stdout",
     "output_type": "stream",
     "text": [
      "ga\n"
     ]
    }
   ],
   "source": [
    "test2()\n"
   ]
  },
  {
   "cell_type": "code",
   "execution_count": 38,
   "metadata": {},
   "outputs": [],
   "source": [
    "\n",
    "def jishu(n):\n",
    "    for i in range(0,10,2):\n",
    "        print(\"def1\",i)\n",
    "        test1(i)\n",
    "def test1(i):\n",
    "    print(\"def2\",i+1)\n",
    "   \n"
   ]
  },
  {
   "cell_type": "code",
   "execution_count": 40,
   "metadata": {},
   "outputs": [
    {
     "name": "stdout",
     "output_type": "stream",
     "text": [
      "def1 0\n",
      "def2 1\n",
      "def1 2\n",
      "def2 3\n",
      "def1 4\n",
      "def2 5\n",
      "def1 6\n",
      "def2 7\n",
      "def1 8\n",
      "def2 9\n"
     ]
    }
   ],
   "source": [
    "jishu(2)"
   ]
  },
  {
   "cell_type": "code",
   "execution_count": 1,
   "metadata": {},
   "outputs": [],
   "source": [
    "account=None\n",
    "password=None\n",
    "def regist(p1,p2):\n",
    "    global account,password\n",
    "    account=p1\n",
    "    password=p2\n",
    "    print(account,password)\n",
    "def login(p1,p2): \n",
    "    if p1==account and p2==password:\n",
    "        print(\"login sucess\")\n",
    "    else:\n",
    "        print(\"eroor\")\n",
    "    \n"
   ]
  },
  {
   "cell_type": "code",
   "execution_count": 2,
   "metadata": {},
   "outputs": [
    {
     "name": "stdout",
     "output_type": "stream",
     "text": [
      "23 563\n",
      "login sucess\n"
     ]
    }
   ],
   "source": [
    "regist(23,563)\n",
    "login(23,563)"
   ]
  },
  {
   "cell_type": "code",
   "execution_count": 3,
   "metadata": {},
   "outputs": [],
   "source": [
    "import pymysql"
   ]
  },
  {
   "cell_type": "markdown",
   "metadata": {},
   "source": [
    "## 类型和关键字参数\n",
    "- 普通参数\n",
    "- 多个参数\n",
    "- 默认值参数\n",
    "- 不定长参数"
   ]
  },
  {
   "cell_type": "markdown",
   "metadata": {},
   "source": [
    "## 普通参数"
   ]
  },
  {
   "cell_type": "code",
   "execution_count": 32,
   "metadata": {},
   "outputs": [],
   "source": [
    "def num_num(num):\n",
    "    print(num**3)"
   ]
  },
  {
   "cell_type": "code",
   "execution_count": 34,
   "metadata": {},
   "outputs": [
    {
     "name": "stdout",
     "output_type": "stream",
     "text": [
      "1000\n"
     ]
    }
   ],
   "source": [
    "num_num(10)\n"
   ]
  },
  {
   "cell_type": "markdown",
   "metadata": {},
   "source": [
    "## 多个参数"
   ]
  },
  {
   "cell_type": "code",
   "execution_count": 16,
   "metadata": {},
   "outputs": [],
   "source": [
    "def test(a,b,c,d,e=100):# 默认参数只能放到最后\n",
    "    print(a,b,c,d,e)"
   ]
  },
  {
   "cell_type": "code",
   "execution_count": 17,
   "metadata": {},
   "outputs": [
    {
     "name": "stdout",
     "output_type": "stream",
     "text": [
      "1 2 3 4 100\n"
     ]
    }
   ],
   "source": [
    "test(1,2,3,4)"
   ]
  },
  {
   "cell_type": "code",
   "execution_count": null,
   "metadata": {},
   "outputs": [],
   "source": [
    "def test(a,b,*,c,d,e):#*后面的参数强制命名\n",
    "for i in range(10):\n",
    "    if i\n",
    "    "
   ]
  },
  {
   "cell_type": "markdown",
   "metadata": {},
   "source": [
    "# 默认值参数\n",
    "##强制命名"
   ]
  },
  {
   "cell_type": "markdown",
   "metadata": {},
   "source": [
    "## 不定长参数\n",
    "*args\n",
    ">不定长，来多少装多少，不装也是可以的\n",
    " 返回的数据类型是元组\n",
    " arg名字是可以修改的，只是我们约定俗成的是"
   ]
  },
  {
   "cell_type": "code",
   "execution_count": 21,
   "metadata": {},
   "outputs": [],
   "source": [
    "def test(*args):\n",
    "    print(args)\n",
    "    print(type(args))"
   ]
  },
  {
   "cell_type": "code",
   "execution_count": 22,
   "metadata": {},
   "outputs": [
    {
     "name": "stdout",
     "output_type": "stream",
     "text": [
      "(1, 2, 3, 4, 5, 6)\n",
      "<class 'tuple'>\n"
     ]
    }
   ],
   "source": [
    "test(1,2,3,4,5,6)"
   ]
  },
  {
   "cell_type": "code",
   "execution_count": 23,
   "metadata": {},
   "outputs": [],
   "source": [
    "def test(**kwargs):\n",
    "    print(kwargs)\n",
    "    "
   ]
  },
  {
   "cell_type": "code",
   "execution_count": 25,
   "metadata": {},
   "outputs": [
    {
     "name": "stdout",
     "output_type": "stream",
     "text": [
      "{'a': 1, 'b': 2}\n"
     ]
    }
   ],
   "source": [
    "test(a=1,b=2)"
   ]
  },
  {
   "cell_type": "code",
   "execution_count": 26,
   "metadata": {},
   "outputs": [],
   "source": [
    "def res(*args,**kwarge):\n",
    "    print(args)\n",
    "    print(kwarge)"
   ]
  },
  {
   "cell_type": "code",
   "execution_count": 27,
   "metadata": {},
   "outputs": [
    {
     "name": "stdout",
     "output_type": "stream",
     "text": [
      "(1, 2, 3)\n",
      "{'a': 1, 'c': 2}\n"
     ]
    }
   ],
   "source": [
    "res(1,2,3,a=1,c=2)"
   ]
  },
  {
   "cell_type": "code",
   "execution_count": 35,
   "metadata": {},
   "outputs": [],
   "source": [
    "config={\"df\":\"tg\"}"
   ]
  },
  {
   "cell_type": "code",
   "execution_count": 36,
   "metadata": {},
   "outputs": [
    {
     "ename": "TypeError",
     "evalue": "__init__() got an unexpected keyword argument 'df'",
     "output_type": "error",
     "traceback": [
      "\u001b[1;31m---------------------------------------------------------------------------\u001b[0m",
      "\u001b[1;31mTypeError\u001b[0m                                 Traceback (most recent call last)",
      "\u001b[1;32m<ipython-input-36-c0a39dfcb96f>\u001b[0m in \u001b[0;36m<module>\u001b[1;34m()\u001b[0m\n\u001b[0;32m      1\u001b[0m \u001b[1;32mimport\u001b[0m \u001b[0mpymysql\u001b[0m\u001b[1;33m\u001b[0m\u001b[0m\n\u001b[1;32m----> 2\u001b[1;33m \u001b[0mconnect\u001b[0m\u001b[1;33m=\u001b[0m \u001b[0mpymysql\u001b[0m\u001b[1;33m.\u001b[0m\u001b[0mconnect\u001b[0m\u001b[1;33m(\u001b[0m\u001b[1;33m**\u001b[0m\u001b[0mconfig\u001b[0m\u001b[1;33m)\u001b[0m\u001b[1;33m\u001b[0m\u001b[0m\n\u001b[0m\u001b[0;32m      3\u001b[0m \u001b[0mprint\u001b[0m\u001b[1;33m(\u001b[0m\u001b[0mconnect\u001b[0m\u001b[1;33m)\u001b[0m\u001b[1;33m\u001b[0m\u001b[0m\n",
      "\u001b[1;32mC:\\ProgramData\\Anaconda3\\lib\\site-packages\\pymysql\\__init__.py\u001b[0m in \u001b[0;36mConnect\u001b[1;34m(*args, **kwargs)\u001b[0m\n\u001b[0;32m     92\u001b[0m     \"\"\"\n\u001b[0;32m     93\u001b[0m     \u001b[1;32mfrom\u001b[0m \u001b[1;33m.\u001b[0m\u001b[0mconnections\u001b[0m \u001b[1;32mimport\u001b[0m \u001b[0mConnection\u001b[0m\u001b[1;33m\u001b[0m\u001b[0m\n\u001b[1;32m---> 94\u001b[1;33m     \u001b[1;32mreturn\u001b[0m \u001b[0mConnection\u001b[0m\u001b[1;33m(\u001b[0m\u001b[1;33m*\u001b[0m\u001b[0margs\u001b[0m\u001b[1;33m,\u001b[0m \u001b[1;33m**\u001b[0m\u001b[0mkwargs\u001b[0m\u001b[1;33m)\u001b[0m\u001b[1;33m\u001b[0m\u001b[0m\n\u001b[0m\u001b[0;32m     95\u001b[0m \u001b[1;33m\u001b[0m\u001b[0m\n\u001b[0;32m     96\u001b[0m \u001b[1;32mfrom\u001b[0m \u001b[1;33m.\u001b[0m \u001b[1;32mimport\u001b[0m \u001b[0mconnections\u001b[0m \u001b[1;32mas\u001b[0m \u001b[0m_orig_conn\u001b[0m\u001b[1;33m\u001b[0m\u001b[0m\n",
      "\u001b[1;31mTypeError\u001b[0m: __init__() got an unexpected keyword argument 'df'"
     ]
    }
   ],
   "source": [
    "import pymysql\n",
    "connect= pymysql.connect(**config)\n",
    "print(connect)\n"
   ]
  },
  {
   "cell_type": "markdown",
   "metadata": {},
   "source": [
    "# 变量的作用域\n",
    "- 局部变量 local\n",
    "- 全局变量 global\n",
    "- globals 函数返回一个全局变量的字典，包括所有导入的变量\n",
    "- locals() 函数会以字典类型返回当前位置的全部局部变量。"
   ]
  },
  {
   "cell_type": "code",
   "execution_count": 37,
   "metadata": {},
   "outputs": [],
   "source": [
    "Mist =0\n",
    "def test4():\n",
    "    global Mist\n",
    "    Mist+=100\n",
    "    print(Mist)\n"
   ]
  },
  {
   "cell_type": "code",
   "execution_count": 39,
   "metadata": {},
   "outputs": [
    {
     "name": "stdout",
     "output_type": "stream",
     "text": [
      "100\n"
     ]
    }
   ],
   "source": [
    "test4()"
   ]
  },
  {
   "cell_type": "code",
   "execution_count": 38,
   "metadata": {},
   "outputs": [],
   "source": [
    "Mist2=[]\n",
    "def test5():\n",
    "    Mist2.append(100)\n",
    "    print(Mist2)"
   ]
  },
  {
   "cell_type": "code",
   "execution_count": null,
   "metadata": {},
   "outputs": [],
   "source": [
    "Mist3=100\n",
    "def test6():\n",
    "    global  \n",
    "    print(Mist2)"
   ]
  },
  {
   "cell_type": "code",
   "execution_count": 40,
   "metadata": {
    "collapsed": true
   },
   "outputs": [
    {
     "data": {
      "text/plain": [
       "{'In': ['',\n",
       "  'import pymsql',\n",
       "  'import pymsql',\n",
       "  'import pymysql',\n",
       "  'test(1,2,3,4)',\n",
       "  'test(1,2,3,4,5)',\n",
       "  'def test(a,b,c,d,e):\\n    print(a,b,c,d,e)',\n",
       "  'test(1,2,3,4,5)',\n",
       "  'def test(a,b,c,d,e=100):\\n    print(a,b,c,d,e)',\n",
       "  'test(1,2,3,4,5)',\n",
       "  'def test(a,b,c,d,e=100):\\n    print(a,b,c,d,e)',\n",
       "  'test(1,2,3,4,5)',\n",
       "  'def test(a,b,c,d,e=100):# 默认参数只能放到最后\\n    print(a,b,c,d,e)',\n",
       "  'test(1,2,3,4)',\n",
       "  'def test(a,b,c,d,e):# 默认参数只能放到最后\\n    print(a,b,c,d,e)',\n",
       "  'test(1,2,3,4)',\n",
       "  'def test(a,b,c,d,e=100):# 默认参数只能放到最后\\n    print(a,b,c,d,e)',\n",
       "  'test(1,2,3,4)',\n",
       "  'test(1,2,3,4,5,6)',\n",
       "  'def test(*args):\\n    print(args)',\n",
       "  'test(1,2,3,4,5,6)',\n",
       "  'def test(*args):\\n    print(args)\\n    print(type(args))',\n",
       "  'test(1,2,3,4,5,6)',\n",
       "  'def test(**kwargs):\\n    print(kwargs)\\n    ',\n",
       "  'test2(a=1,b=2)',\n",
       "  'test(a=1,b=2)',\n",
       "  'def res(*args,**kwarge):\\n    print(args)\\n    print(kwarge)',\n",
       "  'res(1,2,3,a=1,c=2)',\n",
       "  'import pymysql\\nconnect= pymysql.connect(**Config)\\nprint(connect)',\n",
       "  'import pymysql\\nconnect= pymysql.connect(res)\\nprint(connect)',\n",
       "  'import pymysql\\nconnect= pymysql.connect(**config)\\nprint(connect)',\n",
       "  'config={1,2,3,4}',\n",
       "  'import pymysql\\nconnect= pymysql.connect(**config)\\nprint(connect)',\n",
       "  'config={1:2:3:4\\n       }',\n",
       "  'config={1:2:3:4}',\n",
       "  'config={\"df\":\"tg\"}',\n",
       "  'import pymysql\\nconnect= pymysql.connect(**config)\\nprint(connect)',\n",
       "  'Mist =0\\ndef test4():\\n    global Mist\\n    Mist+=100\\n    print(Mist)',\n",
       "  'Mist2=[]\\ndef test5():\\n    Mist2.append(100)\\n    print(Mist2)',\n",
       "  'test4()',\n",
       "  'globals()'],\n",
       " 'Mist': 100,\n",
       " 'Mist2': [],\n",
       " 'Out': {},\n",
       " '_': '',\n",
       " '__': '',\n",
       " '___': '',\n",
       " '__builtin__': <module 'builtins' (built-in)>,\n",
       " '__builtins__': <module 'builtins' (built-in)>,\n",
       " '__doc__': 'Automatically created module for IPython interactive environment',\n",
       " '__loader__': None,\n",
       " '__name__': '__main__',\n",
       " '__package__': None,\n",
       " '__spec__': None,\n",
       " '_dh': ['C:\\\\Users\\\\Administrator\\\\Desktop\\\\doc_all\\\\Teacher\\\\Python基础'],\n",
       " '_i': 'test4()',\n",
       " '_i1': 'import pymsql',\n",
       " '_i10': 'def test(a,b,c,d,e=100):\\n    print(a,b,c,d,e)',\n",
       " '_i11': 'test(1,2,3,4,5)',\n",
       " '_i12': 'def test(a,b,c,d,e=100):# 默认参数只能放到最后\\n    print(a,b,c,d,e)',\n",
       " '_i13': 'test(1,2,3,4)',\n",
       " '_i14': 'def test(a,b,c,d,e):# 默认参数只能放到最后\\n    print(a,b,c,d,e)',\n",
       " '_i15': 'test(1,2,3,4)',\n",
       " '_i16': 'def test(a,b,c,d,e=100):# 默认参数只能放到最后\\n    print(a,b,c,d,e)',\n",
       " '_i17': 'test(1,2,3,4)',\n",
       " '_i18': 'test(1,2,3,4,5,6)',\n",
       " '_i19': 'def test(*args):\\n    print(args)',\n",
       " '_i2': 'import pymsql',\n",
       " '_i20': 'test(1,2,3,4,5,6)',\n",
       " '_i21': 'def test(*args):\\n    print(args)\\n    print(type(args))',\n",
       " '_i22': 'test(1,2,3,4,5,6)',\n",
       " '_i23': 'def test(**kwargs):\\n    print(kwargs)\\n    ',\n",
       " '_i24': 'test2(a=1,b=2)',\n",
       " '_i25': 'test(a=1,b=2)',\n",
       " '_i26': 'def res(*args,**kwarge):\\n    print(args)\\n    print(kwarge)',\n",
       " '_i27': 'res(1,2,3,a=1,c=2)',\n",
       " '_i28': 'import pymysql\\nconnect= pymysql.connect(**Config)\\nprint(connect)',\n",
       " '_i29': 'import pymysql\\nconnect= pymysql.connect(res)\\nprint(connect)',\n",
       " '_i3': 'import pymysql',\n",
       " '_i30': 'import pymysql\\nconnect= pymysql.connect(**config)\\nprint(connect)',\n",
       " '_i31': 'config={1,2,3,4}',\n",
       " '_i32': 'import pymysql\\nconnect= pymysql.connect(**config)\\nprint(connect)',\n",
       " '_i33': 'config={1:2:3:4\\n       }',\n",
       " '_i34': 'config={1:2:3:4}',\n",
       " '_i35': 'config={\"df\":\"tg\"}',\n",
       " '_i36': 'import pymysql\\nconnect= pymysql.connect(**config)\\nprint(connect)',\n",
       " '_i37': 'Mist =0\\ndef test4():\\n    global Mist\\n    Mist+=100\\n    print(Mist)',\n",
       " '_i38': 'Mist2=[]\\ndef test5():\\n    Mist2.append(100)\\n    print(Mist2)',\n",
       " '_i39': 'test4()',\n",
       " '_i4': 'test(1,2,3,4)',\n",
       " '_i40': 'globals()',\n",
       " '_i5': 'test(1,2,3,4,5)',\n",
       " '_i6': 'def test(a,b,c,d,e):\\n    print(a,b,c,d,e)',\n",
       " '_i7': 'test(1,2,3,4,5)',\n",
       " '_i8': 'def test(a,b,c,d,e=100):\\n    print(a,b,c,d,e)',\n",
       " '_i9': 'test(1,2,3,4,5)',\n",
       " '_ih': ['',\n",
       "  'import pymsql',\n",
       "  'import pymsql',\n",
       "  'import pymysql',\n",
       "  'test(1,2,3,4)',\n",
       "  'test(1,2,3,4,5)',\n",
       "  'def test(a,b,c,d,e):\\n    print(a,b,c,d,e)',\n",
       "  'test(1,2,3,4,5)',\n",
       "  'def test(a,b,c,d,e=100):\\n    print(a,b,c,d,e)',\n",
       "  'test(1,2,3,4,5)',\n",
       "  'def test(a,b,c,d,e=100):\\n    print(a,b,c,d,e)',\n",
       "  'test(1,2,3,4,5)',\n",
       "  'def test(a,b,c,d,e=100):# 默认参数只能放到最后\\n    print(a,b,c,d,e)',\n",
       "  'test(1,2,3,4)',\n",
       "  'def test(a,b,c,d,e):# 默认参数只能放到最后\\n    print(a,b,c,d,e)',\n",
       "  'test(1,2,3,4)',\n",
       "  'def test(a,b,c,d,e=100):# 默认参数只能放到最后\\n    print(a,b,c,d,e)',\n",
       "  'test(1,2,3,4)',\n",
       "  'test(1,2,3,4,5,6)',\n",
       "  'def test(*args):\\n    print(args)',\n",
       "  'test(1,2,3,4,5,6)',\n",
       "  'def test(*args):\\n    print(args)\\n    print(type(args))',\n",
       "  'test(1,2,3,4,5,6)',\n",
       "  'def test(**kwargs):\\n    print(kwargs)\\n    ',\n",
       "  'test2(a=1,b=2)',\n",
       "  'test(a=1,b=2)',\n",
       "  'def res(*args,**kwarge):\\n    print(args)\\n    print(kwarge)',\n",
       "  'res(1,2,3,a=1,c=2)',\n",
       "  'import pymysql\\nconnect= pymysql.connect(**Config)\\nprint(connect)',\n",
       "  'import pymysql\\nconnect= pymysql.connect(res)\\nprint(connect)',\n",
       "  'import pymysql\\nconnect= pymysql.connect(**config)\\nprint(connect)',\n",
       "  'config={1,2,3,4}',\n",
       "  'import pymysql\\nconnect= pymysql.connect(**config)\\nprint(connect)',\n",
       "  'config={1:2:3:4\\n       }',\n",
       "  'config={1:2:3:4}',\n",
       "  'config={\"df\":\"tg\"}',\n",
       "  'import pymysql\\nconnect= pymysql.connect(**config)\\nprint(connect)',\n",
       "  'Mist =0\\ndef test4():\\n    global Mist\\n    Mist+=100\\n    print(Mist)',\n",
       "  'Mist2=[]\\ndef test5():\\n    Mist2.append(100)\\n    print(Mist2)',\n",
       "  'test4()',\n",
       "  'globals()'],\n",
       " '_ii': 'Mist2=[]\\ndef test5():\\n    Mist2.append(100)\\n    print(Mist2)',\n",
       " '_iii': 'Mist =0\\ndef test4():\\n    global Mist\\n    Mist+=100\\n    print(Mist)',\n",
       " '_oh': {},\n",
       " 'config': {'df': 'tg'},\n",
       " 'exit': <IPython.core.autocall.ZMQExitAutocall at 0x578a7b8>,\n",
       " 'get_ipython': <bound method InteractiveShell.get_ipython of <ipykernel.zmqshell.ZMQInteractiveShell object at 0x0000000005581358>>,\n",
       " 'pymysql': <module 'pymysql' from 'C:\\\\ProgramData\\\\Anaconda3\\\\lib\\\\site-packages\\\\pymysql\\\\__init__.py'>,\n",
       " 'quit': <IPython.core.autocall.ZMQExitAutocall at 0x578a7b8>,\n",
       " 'res': <function __main__.res>,\n",
       " 'test': <function __main__.test>,\n",
       " 'test4': <function __main__.test4>,\n",
       " 'test5': <function __main__.test5>}"
      ]
     },
     "execution_count": 40,
     "metadata": {},
     "output_type": "execute_result"
    }
   ],
   "source": [
    "globals()"
   ]
  },
  {
   "cell_type": "code",
   "execution_count": 41,
   "metadata": {
    "collapsed": true
   },
   "outputs": [
    {
     "data": {
      "text/plain": [
       "{'In': ['',\n",
       "  'import pymsql',\n",
       "  'import pymsql',\n",
       "  'import pymysql',\n",
       "  'test(1,2,3,4)',\n",
       "  'test(1,2,3,4,5)',\n",
       "  'def test(a,b,c,d,e):\\n    print(a,b,c,d,e)',\n",
       "  'test(1,2,3,4,5)',\n",
       "  'def test(a,b,c,d,e=100):\\n    print(a,b,c,d,e)',\n",
       "  'test(1,2,3,4,5)',\n",
       "  'def test(a,b,c,d,e=100):\\n    print(a,b,c,d,e)',\n",
       "  'test(1,2,3,4,5)',\n",
       "  'def test(a,b,c,d,e=100):# 默认参数只能放到最后\\n    print(a,b,c,d,e)',\n",
       "  'test(1,2,3,4)',\n",
       "  'def test(a,b,c,d,e):# 默认参数只能放到最后\\n    print(a,b,c,d,e)',\n",
       "  'test(1,2,3,4)',\n",
       "  'def test(a,b,c,d,e=100):# 默认参数只能放到最后\\n    print(a,b,c,d,e)',\n",
       "  'test(1,2,3,4)',\n",
       "  'test(1,2,3,4,5,6)',\n",
       "  'def test(*args):\\n    print(args)',\n",
       "  'test(1,2,3,4,5,6)',\n",
       "  'def test(*args):\\n    print(args)\\n    print(type(args))',\n",
       "  'test(1,2,3,4,5,6)',\n",
       "  'def test(**kwargs):\\n    print(kwargs)\\n    ',\n",
       "  'test2(a=1,b=2)',\n",
       "  'test(a=1,b=2)',\n",
       "  'def res(*args,**kwarge):\\n    print(args)\\n    print(kwarge)',\n",
       "  'res(1,2,3,a=1,c=2)',\n",
       "  'import pymysql\\nconnect= pymysql.connect(**Config)\\nprint(connect)',\n",
       "  'import pymysql\\nconnect= pymysql.connect(res)\\nprint(connect)',\n",
       "  'import pymysql\\nconnect= pymysql.connect(**config)\\nprint(connect)',\n",
       "  'config={1,2,3,4}',\n",
       "  'import pymysql\\nconnect= pymysql.connect(**config)\\nprint(connect)',\n",
       "  'config={1:2:3:4\\n       }',\n",
       "  'config={1:2:3:4}',\n",
       "  'config={\"df\":\"tg\"}',\n",
       "  'import pymysql\\nconnect= pymysql.connect(**config)\\nprint(connect)',\n",
       "  'Mist =0\\ndef test4():\\n    global Mist\\n    Mist+=100\\n    print(Mist)',\n",
       "  'Mist2=[]\\ndef test5():\\n    Mist2.append(100)\\n    print(Mist2)',\n",
       "  'test4()',\n",
       "  'globals()',\n",
       "  'locals()'],\n",
       " 'Mist': 100,\n",
       " 'Mist2': [],\n",
       " 'Out': {40: {...}},\n",
       " '_': {...},\n",
       " '_40': {...},\n",
       " '__': '',\n",
       " '___': '',\n",
       " '__builtin__': <module 'builtins' (built-in)>,\n",
       " '__builtins__': <module 'builtins' (built-in)>,\n",
       " '__doc__': 'Automatically created module for IPython interactive environment',\n",
       " '__loader__': None,\n",
       " '__name__': '__main__',\n",
       " '__package__': None,\n",
       " '__spec__': None,\n",
       " '_dh': ['C:\\\\Users\\\\Administrator\\\\Desktop\\\\doc_all\\\\Teacher\\\\Python基础'],\n",
       " '_i': 'globals()',\n",
       " '_i1': 'import pymsql',\n",
       " '_i10': 'def test(a,b,c,d,e=100):\\n    print(a,b,c,d,e)',\n",
       " '_i11': 'test(1,2,3,4,5)',\n",
       " '_i12': 'def test(a,b,c,d,e=100):# 默认参数只能放到最后\\n    print(a,b,c,d,e)',\n",
       " '_i13': 'test(1,2,3,4)',\n",
       " '_i14': 'def test(a,b,c,d,e):# 默认参数只能放到最后\\n    print(a,b,c,d,e)',\n",
       " '_i15': 'test(1,2,3,4)',\n",
       " '_i16': 'def test(a,b,c,d,e=100):# 默认参数只能放到最后\\n    print(a,b,c,d,e)',\n",
       " '_i17': 'test(1,2,3,4)',\n",
       " '_i18': 'test(1,2,3,4,5,6)',\n",
       " '_i19': 'def test(*args):\\n    print(args)',\n",
       " '_i2': 'import pymsql',\n",
       " '_i20': 'test(1,2,3,4,5,6)',\n",
       " '_i21': 'def test(*args):\\n    print(args)\\n    print(type(args))',\n",
       " '_i22': 'test(1,2,3,4,5,6)',\n",
       " '_i23': 'def test(**kwargs):\\n    print(kwargs)\\n    ',\n",
       " '_i24': 'test2(a=1,b=2)',\n",
       " '_i25': 'test(a=1,b=2)',\n",
       " '_i26': 'def res(*args,**kwarge):\\n    print(args)\\n    print(kwarge)',\n",
       " '_i27': 'res(1,2,3,a=1,c=2)',\n",
       " '_i28': 'import pymysql\\nconnect= pymysql.connect(**Config)\\nprint(connect)',\n",
       " '_i29': 'import pymysql\\nconnect= pymysql.connect(res)\\nprint(connect)',\n",
       " '_i3': 'import pymysql',\n",
       " '_i30': 'import pymysql\\nconnect= pymysql.connect(**config)\\nprint(connect)',\n",
       " '_i31': 'config={1,2,3,4}',\n",
       " '_i32': 'import pymysql\\nconnect= pymysql.connect(**config)\\nprint(connect)',\n",
       " '_i33': 'config={1:2:3:4\\n       }',\n",
       " '_i34': 'config={1:2:3:4}',\n",
       " '_i35': 'config={\"df\":\"tg\"}',\n",
       " '_i36': 'import pymysql\\nconnect= pymysql.connect(**config)\\nprint(connect)',\n",
       " '_i37': 'Mist =0\\ndef test4():\\n    global Mist\\n    Mist+=100\\n    print(Mist)',\n",
       " '_i38': 'Mist2=[]\\ndef test5():\\n    Mist2.append(100)\\n    print(Mist2)',\n",
       " '_i39': 'test4()',\n",
       " '_i4': 'test(1,2,3,4)',\n",
       " '_i40': 'globals()',\n",
       " '_i41': 'locals()',\n",
       " '_i5': 'test(1,2,3,4,5)',\n",
       " '_i6': 'def test(a,b,c,d,e):\\n    print(a,b,c,d,e)',\n",
       " '_i7': 'test(1,2,3,4,5)',\n",
       " '_i8': 'def test(a,b,c,d,e=100):\\n    print(a,b,c,d,e)',\n",
       " '_i9': 'test(1,2,3,4,5)',\n",
       " '_ih': ['',\n",
       "  'import pymsql',\n",
       "  'import pymsql',\n",
       "  'import pymysql',\n",
       "  'test(1,2,3,4)',\n",
       "  'test(1,2,3,4,5)',\n",
       "  'def test(a,b,c,d,e):\\n    print(a,b,c,d,e)',\n",
       "  'test(1,2,3,4,5)',\n",
       "  'def test(a,b,c,d,e=100):\\n    print(a,b,c,d,e)',\n",
       "  'test(1,2,3,4,5)',\n",
       "  'def test(a,b,c,d,e=100):\\n    print(a,b,c,d,e)',\n",
       "  'test(1,2,3,4,5)',\n",
       "  'def test(a,b,c,d,e=100):# 默认参数只能放到最后\\n    print(a,b,c,d,e)',\n",
       "  'test(1,2,3,4)',\n",
       "  'def test(a,b,c,d,e):# 默认参数只能放到最后\\n    print(a,b,c,d,e)',\n",
       "  'test(1,2,3,4)',\n",
       "  'def test(a,b,c,d,e=100):# 默认参数只能放到最后\\n    print(a,b,c,d,e)',\n",
       "  'test(1,2,3,4)',\n",
       "  'test(1,2,3,4,5,6)',\n",
       "  'def test(*args):\\n    print(args)',\n",
       "  'test(1,2,3,4,5,6)',\n",
       "  'def test(*args):\\n    print(args)\\n    print(type(args))',\n",
       "  'test(1,2,3,4,5,6)',\n",
       "  'def test(**kwargs):\\n    print(kwargs)\\n    ',\n",
       "  'test2(a=1,b=2)',\n",
       "  'test(a=1,b=2)',\n",
       "  'def res(*args,**kwarge):\\n    print(args)\\n    print(kwarge)',\n",
       "  'res(1,2,3,a=1,c=2)',\n",
       "  'import pymysql\\nconnect= pymysql.connect(**Config)\\nprint(connect)',\n",
       "  'import pymysql\\nconnect= pymysql.connect(res)\\nprint(connect)',\n",
       "  'import pymysql\\nconnect= pymysql.connect(**config)\\nprint(connect)',\n",
       "  'config={1,2,3,4}',\n",
       "  'import pymysql\\nconnect= pymysql.connect(**config)\\nprint(connect)',\n",
       "  'config={1:2:3:4\\n       }',\n",
       "  'config={1:2:3:4}',\n",
       "  'config={\"df\":\"tg\"}',\n",
       "  'import pymysql\\nconnect= pymysql.connect(**config)\\nprint(connect)',\n",
       "  'Mist =0\\ndef test4():\\n    global Mist\\n    Mist+=100\\n    print(Mist)',\n",
       "  'Mist2=[]\\ndef test5():\\n    Mist2.append(100)\\n    print(Mist2)',\n",
       "  'test4()',\n",
       "  'globals()',\n",
       "  'locals()'],\n",
       " '_ii': 'test4()',\n",
       " '_iii': 'Mist2=[]\\ndef test5():\\n    Mist2.append(100)\\n    print(Mist2)',\n",
       " '_oh': {40: {...}},\n",
       " 'config': {'df': 'tg'},\n",
       " 'exit': <IPython.core.autocall.ZMQExitAutocall at 0x578a7b8>,\n",
       " 'get_ipython': <bound method InteractiveShell.get_ipython of <ipykernel.zmqshell.ZMQInteractiveShell object at 0x0000000005581358>>,\n",
       " 'pymysql': <module 'pymysql' from 'C:\\\\ProgramData\\\\Anaconda3\\\\lib\\\\site-packages\\\\pymysql\\\\__init__.py'>,\n",
       " 'quit': <IPython.core.autocall.ZMQExitAutocall at 0x578a7b8>,\n",
       " 'res': <function __main__.res>,\n",
       " 'test': <function __main__.test>,\n",
       " 'test4': <function __main__.test4>,\n",
       " 'test5': <function __main__.test5>}"
      ]
     },
     "execution_count": 41,
     "metadata": {},
     "output_type": "execute_result"
    }
   ],
   "source": [
    "locals()"
   ]
  },
  {
   "cell_type": "markdown",
   "metadata": {},
   "source": [
    "## 注意：\n",
    "- global ：在进行赋值操作的时候需要声明\n",
    "- 官方解释：This is because when you make an assignment to a variable in a scope, that variable becomes local to that scope and shadows any similarly named variable in the outer scope.\n",
    "- ![](../Photo/73.png)"
   ]
  },
  {
   "cell_type": "code",
   "execution_count": 8,
   "metadata": {},
   "outputs": [
    {
     "name": "stdout",
     "output_type": "stream",
     "text": [
      "1\n",
      "1\n"
     ]
    }
   ],
   "source": [
    "x = 1\n",
    "y = []\n",
    "def test():\n",
    "#     x = x  + 1\n",
    "    y.append(100)\n",
    "    print(x)\n",
    "test()\n",
    "print(x)"
   ]
  },
  {
   "cell_type": "code",
   "execution_count": 43,
   "metadata": {},
   "outputs": [],
   "source": [
    "account=None\n",
    "password=None\n",
    "def regist(p1,p2):\n",
    "    global account,password\n",
    "    account=p1\n",
    "    password=p2\n",
    "def login(p1,p2): \n",
    "    if p1==account and p2==password:\n",
    "        print(\"login sucess\")\n",
    "    else:\n",
    "        print(\"eroor\")\n",
    "def logout():\n",
    "    global account,password\n",
    "    account=None\n",
    "    password=None\n",
    "    \n"
   ]
  },
  {
   "cell_type": "code",
   "execution_count": 44,
   "metadata": {},
   "outputs": [],
   "source": [
    "regist(23,563)"
   ]
  },
  {
   "cell_type": "code",
   "execution_count": 52,
   "metadata": {},
   "outputs": [
    {
     "name": "stdout",
     "output_type": "stream",
     "text": [
      "eroor\n"
     ]
    }
   ],
   "source": [
    "login(23,563)\n"
   ]
  },
  {
   "cell_type": "code",
   "execution_count": 50,
   "metadata": {},
   "outputs": [],
   "source": [
    "logout()"
   ]
  },
  {
   "cell_type": "markdown",
   "metadata": {},
   "source": [
    "## EP：\n",
    "- 定义一个邮箱加密函数，使得输入邮箱后进行ASCII码加密\n",
    "- 定义一个判断其是否为闰年的函数\n",
    "- 函数的嵌套：定义两个函数A，B，B函数接受A函数的数值并判定是否为奇数或者偶数"
   ]
  },
  {
   "cell_type": "markdown",
   "metadata": {},
   "source": [
    "# Homework\n",
    "- 1\n",
    "![](../Photo/74.png)"
   ]
  },
  {
   "cell_type": "code",
   "execution_count": 13,
   "metadata": {},
   "outputs": [
    {
     "name": "stdout",
     "output_type": "stream",
     "text": [
      "1.0 5.0 12.0 22.0 35.0 51.0 70.0 92.0 117.0 145.0 \n",
      "176.0 210.0 247.0 287.0 330.0 376.0 425.0 477.0 532.0 590.0 \n",
      "651.0 715.0 782.0 852.0 925.0 1001.0 1080.0 1162.0 1247.0 1335.0 \n",
      "1426.0 1520.0 1617.0 1717.0 1820.0 1926.0 2035.0 2147.0 2262.0 2380.0 \n",
      "2501.0 2625.0 2752.0 2882.0 3015.0 3151.0 3290.0 3432.0 3577.0 3725.0 \n",
      "3876.0 4030.0 4187.0 4347.0 4510.0 4676.0 4845.0 5017.0 5192.0 5370.0 \n",
      "5551.0 5735.0 5922.0 6112.0 6305.0 6501.0 6700.0 6902.0 7107.0 7315.0 \n",
      "7526.0 7740.0 7957.0 8177.0 8400.0 8626.0 8855.0 9087.0 9322.0 9560.0 \n",
      "9801.0 10045.0 10292.0 10542.0 10795.0 11051.0 11310.0 11572.0 11837.0 12105.0 \n",
      "12376.0 12650.0 12927.0 13207.0 13490.0 13776.0 14065.0 14357.0 14652.0 "
     ]
    }
   ],
   "source": [
    "def test(num):\n",
    "    for i in range(1,num):\n",
    "        print(i * (3*i -1) /2,end=' ')\n",
    "        if i % 10 == 0 and i !=0:\n",
    "            print()\n",
    "test(100)"
   ]
  },
  {
   "cell_type": "markdown",
   "metadata": {},
   "source": [
    "- 2 \n",
    "![](../Photo/75.png)"
   ]
  },
  {
   "cell_type": "code",
   "execution_count": 7,
   "metadata": {},
   "outputs": [],
   "source": [
    "\n",
    "def sumDigits(a):\n",
    "    sum2=0\n",
    "    while a!=0:\n",
    "        x1=a%10\n",
    "        sum2=sum2+x1\n",
    "        a=a//10\n",
    "    return sum2\n",
    "    "
   ]
  },
  {
   "cell_type": "code",
   "execution_count": 8,
   "metadata": {},
   "outputs": [
    {
     "name": "stdout",
     "output_type": "stream",
     "text": [
      "Enter number: 234\n"
     ]
    },
    {
     "data": {
      "text/plain": [
       "9"
      ]
     },
     "execution_count": 8,
     "metadata": {},
     "output_type": "execute_result"
    }
   ],
   "source": [
    "a = eval(input(\"Enter number: \"))\n",
    "sumDigits(a)"
   ]
  },
  {
   "cell_type": "markdown",
   "metadata": {},
   "source": [
    "- 3\n",
    "![](../Photo/76.png)"
   ]
  },
  {
   "cell_type": "code",
   "execution_count": 11,
   "metadata": {},
   "outputs": [],
   "source": [
    "def sumDigits(a,b,c):\n",
    "    if a>b and a>c:\n",
    "        if(b>c):\n",
    "            print(c,b,a)\n",
    "    elif a>b and a>c:\n",
    "        if(b<c):\n",
    "            print(b,c,a)\n",
    "    elif b>a and b>c:\n",
    "        if(a>c):\n",
    "            print(c,a,b)\n",
    "    elif b>a and b>c:\n",
    "        if(c>a):\n",
    "            print(a,c,b)\n",
    "    elif c>a and c>b:\n",
    "        if(a>b):\n",
    "            print(b,a,c)\n",
    "    else:\n",
    "            print(a,b,c)\n",
    "\n",
    "    "
   ]
  },
  {
   "cell_type": "code",
   "execution_count": 12,
   "metadata": {},
   "outputs": [
    {
     "name": "stdout",
     "output_type": "stream",
     "text": [
      "Enter three numbers: 3,2.4,5\n",
      "2.4 3 5\n"
     ]
    }
   ],
   "source": [
    "a,b,c = eval(input(\"Enter three numbers: \"))\n",
    "sumDigits(a,b,c)"
   ]
  },
  {
   "cell_type": "markdown",
   "metadata": {},
   "source": [
    "- 4\n",
    "![](../Photo/77.png)"
   ]
  },
  {
   "cell_type": "code",
   "execution_count": 25,
   "metadata": {},
   "outputs": [],
   "source": [
    "def futureinves(d,e):\n",
    "    f=e/12/100\n",
    "    for i in range(1,31):\n",
    "        t=d*(1+f)**(i*12)\n",
    "        print(i ,t)\n",
    "        "
   ]
  },
  {
   "cell_type": "code",
   "execution_count": 26,
   "metadata": {
    "scrolled": true
   },
   "outputs": [
    {
     "name": "stdout",
     "output_type": "stream",
     "text": [
      "The amount invested: 1000\n",
      "Annual interest rate: 9\n",
      "Years     Future Value\n",
      "1 1093.8068976709837\n",
      "2 1196.4135293926222\n",
      "3 1308.6453709165366\n",
      "4 1431.4053333137108\n",
      "5 1565.6810269415707\n",
      "6 1712.5527068212796\n",
      "7 1873.2019633462298\n",
      "8 2048.921228238936\n",
      "9 2241.124172232252\n",
      "10 2451.3570781248113\n",
      "11 2681.3112807075076\n",
      "12 2932.8367736408914\n",
      "13 3207.957092751521\n",
      "14 3508.8855954841697\n",
      "15 3838.0432674789427\n",
      "16 4198.078199528149\n",
      "17 4591.886891606074\n",
      "18 5022.637555363697\n",
      "19 5493.79560255814\n",
      "20 6009.151524472612\n",
      "21 6572.851386618251\n",
      "22 7189.430184049334\n",
      "23 7863.848325637133\n",
      "24 8601.531540820313\n",
      "25 9408.414529883785\n",
      "26 10290.98870893479\n",
      "27 11256.354433687085\n",
      "28 12312.278122196296\n",
      "29 13467.254736101859\n",
      "30 14730.576123040439\n"
     ]
    }
   ],
   "source": [
    "d = eval(input(\"The amount invested: \"))\n",
    "e = eval(input(\"Annual interest rate: \"))\n",
    "print(\"Years     Future Value\")\n",
    "futureinves(d,e)"
   ]
  },
  {
   "cell_type": "markdown",
   "metadata": {},
   "source": [
    "- 5\n",
    "![](../Photo/78.png)"
   ]
  },
  {
   "cell_type": "code",
   "execution_count": 65,
   "metadata": {},
   "outputs": [],
   "source": [
    "def printchar(ch1,ch2,numberPerline):\n",
    "    count=0\n",
    "    for i in range(ord(ch1),ord(ch2)+1):\n",
    "        print(chr(i),end=\"\")\n",
    "        count+=1\n",
    "        if count%numberPerline==0:\n",
    "            print()"
   ]
  },
  {
   "cell_type": "code",
   "execution_count": 66,
   "metadata": {},
   "outputs": [
    {
     "name": "stdout",
     "output_type": "stream",
     "text": [
      "123456789:\n",
      ";<=>?@ABCD\n",
      "EFGHIJKLMN\n",
      "OPQRSTUVWX\n",
      "YZ"
     ]
    }
   ],
   "source": [
    "printchar(\"1\",\"Z\",10)"
   ]
  },
  {
   "cell_type": "markdown",
   "metadata": {},
   "source": [
    "- 6\n",
    "![](../Photo/79.png)"
   ]
  },
  {
   "cell_type": "code",
   "execution_count": 6,
   "metadata": {},
   "outputs": [],
   "source": [
    "def printchar(year):\n",
    "        if (year%4==0 and year%100)or(year%400==0):\n",
    "            return 1\n",
    "        else:\n",
    "            return 0\n",
    "def number(n):\n",
    "    if printchar(n)==1:\n",
    "        return 366\n",
    "    else:\n",
    "        return 365"
   ]
  },
  {
   "cell_type": "code",
   "execution_count": 8,
   "metadata": {},
   "outputs": [
    {
     "name": "stdout",
     "output_type": "stream",
     "text": [
      "2010 有365天\n",
      "2011 有365天\n",
      "2012 有366天\n",
      "2013 有365天\n",
      "2014 有365天\n",
      "2015 有365天\n",
      "2016 有366天\n",
      "2017 有365天\n",
      "2018 有365天\n",
      "2019 有365天\n",
      "2020 有366天\n"
     ]
    }
   ],
   "source": [
    "for i in range(2010,2021):\n",
    "    print(i,\"有%d天\"%(number(i)))\n"
   ]
  },
  {
   "cell_type": "markdown",
   "metadata": {},
   "source": [
    "- 7\n",
    "![](../Photo/80.png)"
   ]
  },
  {
   "cell_type": "code",
   "execution_count": 3,
   "metadata": {},
   "outputs": [],
   "source": [
    "def distance(x1,y1,x2,y2):\n",
    "    d=((x1-x2)**2+(y1-y2)**2)**0.5\n",
    "    print(\"The distance between the two is points\",d)"
   ]
  },
  {
   "cell_type": "code",
   "execution_count": 5,
   "metadata": {},
   "outputs": [
    {
     "name": "stdout",
     "output_type": "stream",
     "text": [
      "Enter x1 and y1 for Point 1: 1.5,-3.4\n",
      "Enter x1 and y1 for Point 2: 4,5\n",
      "The distance between the two is points 8.764131445842194\n"
     ]
    }
   ],
   "source": [
    "x1,y1 = eval(input(\"Enter x1 and y1 for Point 1: \"))\n",
    "x2,y2 = eval(input(\"Enter x1 and y1 for Point 2: \"))\n",
    "distance(x1,y1,x2,y2)"
   ]
  },
  {
   "cell_type": "markdown",
   "metadata": {},
   "source": [
    "- 8\n",
    "![](../Photo/81.png)"
   ]
  },
  {
   "cell_type": "code",
   "execution_count": 16,
   "metadata": {},
   "outputs": [],
   "source": [
    "def distance(n):\n",
    "    if n==2:\n",
    "        return 1\n",
    "    for p in range(2,n):\n",
    "        if n%p==0:\n",
    "            break\n",
    "    if p==n-1:\n",
    "            return 1\n",
    "    else:\n",
    "            return 0\n",
    "        "
   ]
  },
  {
   "cell_type": "code",
   "execution_count": 18,
   "metadata": {},
   "outputs": [
    {
     "name": "stdout",
     "output_type": "stream",
     "text": [
      "p      2**p-1\n",
      "2 3\n",
      "3 7\n",
      "5 31\n",
      "7 127\n",
      "13 8191\n",
      "17 131071\n",
      "19 524287\n"
     ]
    }
   ],
   "source": [
    "print(\"p      2**p-1\")\n",
    "for i in range(2,31):\n",
    "    if distance(2**i-1)==1:\n",
    "        print(i,2**i-1)\n",
    "            "
   ]
  },
  {
   "cell_type": "markdown",
   "metadata": {},
   "source": [
    "- 9\n",
    "![](../Photo/82.png)\n",
    "![](../Photo/83.png)"
   ]
  },
  {
   "cell_type": "code",
   "execution_count": 14,
   "metadata": {},
   "outputs": [
    {
     "name": "stdout",
     "output_type": "stream",
     "text": [
      "Current date and time is Aug 20 , 2018 19:28:56\n"
     ]
    }
   ],
   "source": [
    "import time\n",
    "import datetime\n",
    "i=datetime.datetime.now()\n",
    "uh=['Jan','Feb','Mar','Apr','May','Jul','Aug','Sep','Oct','Nov','Dec']\n",
    "print(\"Current date and time is\",uh[i.month-1],i.day,\",\",i.year,time.strftime(\"%H:%M:%S\"))"
   ]
  },
  {
   "cell_type": "markdown",
   "metadata": {},
   "source": [
    "- 10\n",
    "![](../Photo/84.png)"
   ]
  },
  {
   "cell_type": "code",
   "execution_count": 16,
   "metadata": {},
   "outputs": [],
   "source": [
    "import random\n",
    "def doll():\n",
    "    x1=random.randint(1,6)\n",
    "    x2=random.randint(1,6)\n",
    "    x3=x1+x2\n",
    "    print(\"You dolled %d +%d = %d\"%(x1,x2,x3))\n",
    "    if x3==11 or x3==7:\n",
    "        print('You win',x3)\n",
    "    elif x3==2 or x3==3 or x3==12:\n",
    "        print('You lost',x3)\n",
    "    else:\n",
    "        while 1:\n",
    "            print(\"point is\",x3)\n",
    "            r1=random.randint(1,6)\n",
    "            r2=random.randint(1,6)\n",
    "            r3=r1+r2\n",
    "            print(\"You dolled %d +%d = %d\"%(r1,r2,r3))\n",
    "            if r3==7:\n",
    "                print('You lost',x3)\n",
    "                break\n",
    "            if r3==x3:\n",
    "                print('You win',r3)\n",
    "                break"
   ]
  },
  {
   "cell_type": "code",
   "execution_count": 18,
   "metadata": {},
   "outputs": [
    {
     "name": "stdout",
     "output_type": "stream",
     "text": [
      "You dolled 6 +2 = 8\n",
      "point is 8\n",
      "You dolled 4 +1 = 5\n",
      "point is 8\n",
      "You dolled 6 +6 = 12\n",
      "point is 8\n",
      "You dolled 4 +4 = 8\n",
      "You win 8\n"
     ]
    }
   ],
   "source": [
    "doll()"
   ]
  }
 ],
 "metadata": {
  "kernelspec": {
   "display_name": "Python 3",
   "language": "python",
   "name": "python3"
  },
  "language_info": {
   "codemirror_mode": {
    "name": "ipython",
    "version": 3
   },
   "file_extension": ".py",
   "mimetype": "text/x-python",
   "name": "python",
   "nbconvert_exporter": "python",
   "pygments_lexer": "ipython3",
   "version": "3.6.4"
  }
 },
 "nbformat": 4,
 "nbformat_minor": 2
}
