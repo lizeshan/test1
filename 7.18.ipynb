{
 "cells": [
  {
   "cell_type": "markdown",
   "metadata": {},
   "source": [
    "# 选择\n",
    "## 布尔类型、数值和表达式\n",
    "![](../Photo/33.png)\n",
    "- 注意：比较运算符的相等是两个等到，一个等到代表赋值\n",
    "- 在Python中可以用整型0来代表False，其他数字来代表True\n",
    "- 后面还会讲到 is 在判断语句中的用发"
   ]
  },
  {
   "cell_type": "code",
   "execution_count": 2,
   "metadata": {},
   "outputs": [
    {
     "data": {
      "text/plain": [
       "False"
      ]
     },
     "execution_count": 2,
     "metadata": {},
     "output_type": "execute_result"
    }
   ],
   "source": [
    "a=100\n",
    "b=100\n",
    "a<b"
   ]
  },
  {
   "cell_type": "code",
   "execution_count": 3,
   "metadata": {},
   "outputs": [
    {
     "data": {
      "text/plain": [
       "True"
      ]
     },
     "execution_count": 3,
     "metadata": {},
     "output_type": "execute_result"
    }
   ],
   "source": [
    "c=\"joker\"\n",
    "d=\"hahah\"\n",
    "c>d"
   ]
  },
  {
   "cell_type": "markdown",
   "metadata": {},
   "source": [
    "### 字符串比较用ascill码"
   ]
  },
  {
   "cell_type": "code",
   "execution_count": 4,
   "metadata": {},
   "outputs": [
    {
     "data": {
      "text/plain": [
       "True"
      ]
     },
     "execution_count": 4,
     "metadata": {},
     "output_type": "execute_result"
    }
   ],
   "source": [
    "e=100\n",
    "f=100\n",
    "e==f"
   ]
  },
  {
   "cell_type": "code",
   "execution_count": 5,
   "metadata": {},
   "outputs": [
    {
     "data": {
      "text/plain": [
       "True"
      ]
     },
     "execution_count": 5,
     "metadata": {},
     "output_type": "execute_result"
    }
   ],
   "source": [
    "e1=101\n",
    "f2=102\n",
    "e1!=f2"
   ]
  },
  {
   "cell_type": "code",
   "execution_count": 6,
   "metadata": {},
   "outputs": [
    {
     "name": "stdout",
     "output_type": "stream",
     "text": [
      "1\n"
     ]
    }
   ],
   "source": [
    "i=int(True)\n",
    "print(i)"
   ]
  },
  {
   "cell_type": "code",
   "execution_count": 7,
   "metadata": {},
   "outputs": [
    {
     "name": "stdout",
     "output_type": "stream",
     "text": [
      "6996 NO\n"
     ]
    }
   ],
   "source": [
    "import random\n",
    "water_floawer = random.randint(1000,9999)\n",
    "qian =water_floawer //1000\n",
    "bai = water_floawer //100%10\n",
    "shi = water_floawer //10 % 10\n",
    "ge = water_floawer% 10\n",
    "if water_floawer == qian**5+bai ** 5 + shi **5 + ge **5:\n",
    "    print(water_floawer,'是水仙花')\n",
    "else:\n",
    "    print(water_floawer,'NO')"
   ]
  },
  {
   "cell_type": "markdown",
   "metadata": {},
   "source": [
    "## EP:\n",
    "- <img src=\"../Photo/34.png\"></img>\n",
    "- 输入一个数字，判断其实奇数还是偶数"
   ]
  },
  {
   "cell_type": "code",
   "execution_count": 8,
   "metadata": {},
   "outputs": [
    {
     "name": "stdout",
     "output_type": "stream",
     "text": [
      "shuru6\n",
      "oushu\n"
     ]
    }
   ],
   "source": [
    "import random\n",
    "a=random.randint(0,9)\n",
    "feet = eval(input(\"shuru\"))\n",
    "if feet%2==0:\n",
    "    print(\"oushu\")\n",
    "else:\n",
    "    print(\"jishu\")   \n"
   ]
  },
  {
   "cell_type": "code",
   "execution_count": 9,
   "metadata": {},
   "outputs": [
    {
     "name": "stdout",
     "output_type": "stream",
     "text": [
      "0\n"
     ]
    }
   ],
   "source": [
    "import random\n",
    "a1=random.randint(0,5)\n",
    "print(a1)"
   ]
  },
  {
   "cell_type": "code",
   "execution_count": 10,
   "metadata": {},
   "outputs": [
    {
     "name": "stdout",
     "output_type": "stream",
     "text": [
      "0.6668205915880417\n"
     ]
    }
   ],
   "source": [
    "a2=random.random()\n",
    "print(a2)"
   ]
  },
  {
   "cell_type": "code",
   "execution_count": 11,
   "metadata": {},
   "outputs": [
    {
     "name": "stdout",
     "output_type": "stream",
     "text": [
      "6\n"
     ]
    }
   ],
   "source": [
    "import random\n",
    "a3=random.randrange(start=0,stop=10,step=2)\n",
    "print(a3)"
   ]
  },
  {
   "cell_type": "code",
   "execution_count": 12,
   "metadata": {},
   "outputs": [
    {
     "name": "stdout",
     "output_type": "stream",
     "text": [
      "suiji 42\n"
     ]
    }
   ],
   "source": [
    "import random\n",
    "a1=random.randint(0,4)\n",
    "a2=random.randint(0,4)\n",
    "if(a1==0 and a2>1):\n",
    "    print(\"wuren\",str(a1)+str(a2))\n",
    "else:\n",
    "    print(\"suiji\",str(a1)+str(a2))\n",
    "        "
   ]
  },
  {
   "cell_type": "markdown",
   "metadata": {},
   "source": [
    "## 产生随机数字\n",
    "- 函数random.randint(a,b) 可以用来产生一个a和b之间且包括a和b的随机整数"
   ]
  },
  {
   "cell_type": "markdown",
   "metadata": {},
   "source": [
    "## EP：\n",
    "- 产生两个随机整数number1和number2，然后显示给用户，使用户输入数字，并判定其是否正确\n",
    "- 进阶:写一个随机序号点名程序"
   ]
  },
  {
   "cell_type": "code",
   "execution_count": 13,
   "metadata": {},
   "outputs": [
    {
     "name": "stdout",
     "output_type": "stream",
     "text": [
      "3 5\n",
      "shuru3,5\n",
      "8\n",
      "zhengque\n"
     ]
    }
   ],
   "source": [
    "import random\n",
    "a=random.randint(0,9)\n",
    "b=random.randint(0,9)\n",
    "print(a,b)\n",
    "c=a+b\n",
    "feet = eval(input(\"shuru%d,%d\\n\"%(a,b)))\n",
    "if feet==c:\n",
    "    print(\"zhengque\")\n",
    "else:\n",
    "    print(\"cuowu\")   \n"
   ]
  },
  {
   "cell_type": "markdown",
   "metadata": {},
   "source": [
    "##  其他random方法\n",
    "- random.random 返回0.0到1.0之间前闭后开区间的随机浮点\n",
    "- random.randrange(a,b) 前闭后开"
   ]
  },
  {
   "cell_type": "markdown",
   "metadata": {},
   "source": [
    "## if语句\n",
    "- 如果条件正确就执行一个单向if语句，亦即当条件为真的时候才执行if内部的语句\n",
    "- Python有很多选择语句:\n",
    "> - 单向if \n",
    "  - 双向if-else\n",
    "  - 嵌套if\n",
    "  - 多向if-elif-else\n",
    "  \n",
    "- 注意：当语句含有子语句的时候，那么一定至少要有一个缩进，也就是说如果有儿子存在，那么一定要缩进\n",
    "- 切记不可table键和space混用，单用table 或者 space\n",
    "- 当你输出的结果是无论if是否为真时都需要显示时，语句应该与if对齐"
   ]
  },
  {
   "cell_type": "code",
   "execution_count": 14,
   "metadata": {},
   "outputs": [
    {
     "name": "stdout",
     "output_type": "stream",
     "text": [
      "hahah\n",
      "lalA\n"
     ]
    }
   ],
   "source": [
    "if \"a\"==\"a\":\n",
    "    print(\"hahah\")\n",
    "print(\"lalA\")"
   ]
  },
  {
   "cell_type": "markdown",
   "metadata": {},
   "source": [
    "## EP：\n",
    "- 用户输入一个数字，判断其实奇数还是偶数\n",
    "- 进阶：可以查看下4.5实例研究猜生日"
   ]
  },
  {
   "cell_type": "code",
   "execution_count": null,
   "metadata": {
    "collapsed": true
   },
   "outputs": [],
   "source": []
  },
  {
   "cell_type": "markdown",
   "metadata": {},
   "source": [
    "## 双向if-else 语句\n",
    "- 如果条件为真，那么走if内部语句，否则走else内部语句"
   ]
  },
  {
   "cell_type": "code",
   "execution_count": 15,
   "metadata": {},
   "outputs": [
    {
     "name": "stdout",
     "output_type": "stream",
     "text": [
      "输入加油包d\n"
     ]
    }
   ],
   "source": [
    "import random\n",
    "a=random.randint(0,100)\n",
    "feet =eval(input(\"输入加油包\"))\n",
    "if \"feet\"==\"加油包\":\n",
    "    b=a-1\n",
    "    print(\"zhengque\",b)"
   ]
  },
  {
   "cell_type": "markdown",
   "metadata": {},
   "source": [
    "## EP：\n",
    "- 产生两个随机整数number1和number2，然后显示给用户，使用户输入数字，并判定其是否正确,如果正确打印“you‘re correct”，否则打印正确答案"
   ]
  },
  {
   "cell_type": "markdown",
   "metadata": {},
   "source": [
    "## 嵌套if 和多向if-elif-else\n",
    "![](../Photo/35.png)"
   ]
  },
  {
   "cell_type": "code",
   "execution_count": 25,
   "metadata": {},
   "outputs": [
    {
     "name": "stdout",
     "output_type": "stream",
     "text": [
      "Enter the number of sides: 95\n",
      "A\n"
     ]
    }
   ],
   "source": [
    "score =eval(input(\"Enter the number of sides: \")) \n",
    "if score>=90.0:\n",
    "    grade=\"A\"\n",
    "    print(\"A\")\n",
    "elif score>=80.0:\n",
    "    grade=\"B\"\n",
    "elif score>=70.0:\n",
    "    grade=\"C\"\n",
    "elif score>=60.0:\n",
    "    grade=\"D\"\n",
    "else:\n",
    "    grade=\"F\"\n",
    "       \n",
    "            \n",
    "    "
   ]
  },
  {
   "cell_type": "markdown",
   "metadata": {},
   "source": [
    "## EP：\n",
    "- 提示用户输入一个年份，然后显示表示这一年的动物\n",
    "![](../Photo/36.png)\n",
    "- 计算身体质量指数的程序\n",
    "- BMI = 以千克为单位的体重除以以米为单位的身高\n",
    "![](../Photo/37.png)"
   ]
  },
  {
   "cell_type": "code",
   "execution_count": null,
   "metadata": {
    "collapsed": true
   },
   "outputs": [],
   "source": [
    "a,b =eval(input(\"输入体重身高: \")) \n",
    "BMI=a/b\n",
    "if year%12==0:\n",
    "    print(\"猴\")\n",
    "elif year%12==1:\n",
    "    print(\"鸡\")\n",
    "elif year%12==2:\n",
    "    print(year,\"是狗年\")\n",
    "elif year%12==3:\n",
    "    print(\"猪\")\n"
   ]
  },
  {
   "cell_type": "code",
   "execution_count": 27,
   "metadata": {},
   "outputs": [
    {
     "name": "stdout",
     "output_type": "stream",
     "text": [
      "输入一个年份: 1994\n",
      "1994 是狗年\n"
     ]
    }
   ],
   "source": [
    "year =eval(input(\"输入一个年份: \")) \n",
    "if year%12==0:\n",
    "    print(\"猴\")\n",
    "elif year%12==1:\n",
    "    print(\"鸡\")\n",
    "elif year%12==2:\n",
    "    print(year,\"是狗年\")\n",
    "elif year%12==3:\n",
    "    print(\"猪\")\n",
    "elif year%12==4:\n",
    "    print(\"鼠\")  \n",
    "elif year%12==5:\n",
    "    print(\"牛\") \n",
    "elif year%12==6:\n",
    "    print(\"虎\") \n",
    "elif year%12==7:\n",
    "    print(\"兔\") \n",
    "elif year%12==8:\n",
    "    print(\"龙\") \n",
    "elif year%12==9:\n",
    "    print(\"蛇\") \n",
    "elif year%12==10:\n",
    "    print(\"马\") \n",
    "else:\n",
    "    print(\"羊\")\n",
    "       "
   ]
  },
  {
   "cell_type": "markdown",
   "metadata": {},
   "source": [
    "## 逻辑运算符\n",
    "![](../Photo/38.png)"
   ]
  },
  {
   "cell_type": "markdown",
   "metadata": {},
   "source": [
    "![](../Photo/39.png)\n",
    "![](../Photo/40.png)"
   ]
  },
  {
   "cell_type": "markdown",
   "metadata": {},
   "source": [
    "## EP：\n",
    "- 判定闰年：一个年份如果能被4整除但不能被100整除，或者能被400整除，那么这个年份就是闰年\n",
    "- 提示用户输入一个年份，并返回是否是闰年\n",
    "- 提示用户输入一个数字，判断其是否为水仙花数"
   ]
  },
  {
   "cell_type": "code",
   "execution_count": 1,
   "metadata": {},
   "outputs": [
    {
     "name": "stdout",
     "output_type": "stream",
     "text": [
      "hahah\n"
     ]
    }
   ],
   "source": [
    "if \"a\"==\"b\" or \"c\"==\"c\":\n",
    "    print(\"hahah\")"
   ]
  },
  {
   "cell_type": "code",
   "execution_count": 3,
   "metadata": {},
   "outputs": [
    {
     "name": "stdout",
     "output_type": "stream",
     "text": [
      "输入一个年份: 1998\n",
      "1998 不是闰年\n"
     ]
    }
   ],
   "source": [
    "year =eval(input(\"输入一个年份: \")) \n",
    "if year%4==0 and year%100!=0:\n",
    "    print(year,\"是闰年\")\n",
    "elif year%400==0:\n",
    "    print(year,\"是闰年\")\n",
    "else:\n",
    "    print(year,\"不是闰年\")"
   ]
  },
  {
   "cell_type": "markdown",
   "metadata": {},
   "source": [
    "## 实例研究：彩票\n",
    "![](../Photo/41.png)"
   ]
  },
  {
   "cell_type": "code",
   "execution_count": 10,
   "metadata": {},
   "outputs": [
    {
     "name": "stdout",
     "output_type": "stream",
     "text": [
      "输入一个两位数: 85\n",
      "奖金为1000 68\n"
     ]
    }
   ],
   "source": [
    "import random\n",
    "a1=random.randint(10,99)\n",
    "q=a1//10\n",
    "w=a1%10\n",
    "year =eval(input(\"输入一个两位数: \")) \n",
    "if a1==year:\n",
    "    print(\"奖金为10000元\",a1)\n",
    "elif year//10==w and year%10==q:\n",
    "    print(\"奖金为3000\",a1)\n",
    "elif year//10==w and year%10!=q:\n",
    "    print(\"奖金为1000\",a1)\n",
    "elif year//10!=w and year%10==q:\n",
    "    print(\"奖金为1000\",a1)\n",
    "elif year//10!=q and year%10==w:\n",
    "    print(\"奖金为1000\",a1)\n",
    "elif year//10!=q and year%10==w:\n",
    "    print(\"奖金为1000\",a1)\n",
    "else:\n",
    "    print(\"未中奖\",a1)\n",
    "\n",
    "        "
   ]
  },
  {
   "cell_type": "code",
   "execution_count": 2,
   "metadata": {},
   "outputs": [
    {
     "data": {
      "text/plain": [
       "False"
      ]
     },
     "execution_count": 2,
     "metadata": {},
     "output_type": "execute_result"
    }
   ],
   "source": [
    "4>=5>=0"
   ]
  },
  {
   "cell_type": "markdown",
   "metadata": {},
   "source": [
    "# Homework\n",
    "- 1\n",
    "![](../Photo/42.png)"
   ]
  },
  {
   "cell_type": "code",
   "execution_count": 12,
   "metadata": {},
   "outputs": [
    {
     "name": "stdout",
     "output_type": "stream",
     "text": [
      "Enter a, b, c: 1.0,3,1\n",
      "The roots are -0.3819660112501051 and -2.618033988749895\n"
     ]
    }
   ],
   "source": [
    "import math\n",
    "a,b,c =eval(input(\"Enter a, b, c: \")) \n",
    "n=b**2-4*a*c\n",
    "r1=(-b+math.sqrt(n))/(2*a)\n",
    "r2=(-b-math.sqrt(n))/(2*a)\n",
    "if n>0:\n",
    "    print(\"The roots are\",r1,\"and\",r2 )\n",
    "elif n==0:\n",
    "    print(\"The root is\",r1 )\n",
    "else:\n",
    "    print(\"The equation has no real roots\" )\n"
   ]
  },
  {
   "cell_type": "markdown",
   "metadata": {},
   "source": [
    "- 2\n",
    "![](../Photo/43.png)"
   ]
  },
  {
   "cell_type": "code",
   "execution_count": 15,
   "metadata": {},
   "outputs": [
    {
     "name": "stdout",
     "output_type": "stream",
     "text": [
      "61 + 36 =\n",
      "请输入两个数的和97\n",
      "结果真\n"
     ]
    }
   ],
   "source": [
    "import random\n",
    "a=random.randint(0,99)\n",
    "b=random.randint(0,99)\n",
    "c=a+b\n",
    "print(a, \"+\", b ,\"=\")\n",
    "feet = eval(input(\"请输入两个数的和\"))\n",
    "if feet==c:\n",
    "    print(\"结果真\")\n",
    "else:\n",
    "    print(\"结果假\") "
   ]
  },
  {
   "cell_type": "markdown",
   "metadata": {},
   "source": [
    "- 3\n",
    "![](../Photo/44.png)"
   ]
  },
  {
   "cell_type": "code",
   "execution_count": 21,
   "metadata": {},
   "outputs": [
    {
     "name": "stdout",
     "output_type": "stream",
     "text": [
      "Enter today's day:1\n",
      "Enter the number of days elapsed since today:3\n",
      "Today is Mon and the future is Thursday\n"
     ]
    }
   ],
   "source": [
    "a = eval(input(\"Enter today's day:\"))\n",
    "b = eval(input(\"Enter the number of days elapsed since today:\"))\n",
    "c=a+b\n",
    "if a==0:\n",
    "    u=\"Sun\"\n",
    "elif a==1:\n",
    "    u=\"Mon\"\n",
    "elif a==2:\n",
    "    u=\"Tus\"\n",
    "elif a==3:\n",
    "    u=\"Wed\"\n",
    "elif a==4:\n",
    "    u=\"Ths\"\n",
    "elif a==5:\n",
    "    u=\"Fri\"\n",
    "else:\n",
    "    u=\"Sat\"\n",
    "if c%7==0:\n",
    "    print(\"Today is\" ,u , \"and the future is Sunday\" )\n",
    "elif c%7==1:\n",
    "    print(\"Today is\" ,u ,\"and the future is Monday\" )\n",
    "elif c%7==2:\n",
    "    print(\"Today is\" ,u ,\"and the future is Tusday\" )\n",
    "elif c%7==3:\n",
    "    print(\"Today is\" ,u ,\"and the future is Wednesday\" )\n",
    "elif c%7==4:\n",
    "    print(\"Today is\" ,u ,\"and the future is Thursday\" )\n",
    "elif c%7==5:\n",
    "    print(\"Today is\" ,u , \"and the future is Friday\" )\n",
    "else:\n",
    "    print(\"Today is\" ,u ,\"and the future is Saturday\" )\n"
   ]
  },
  {
   "cell_type": "markdown",
   "metadata": {},
   "source": [
    "- 4\n",
    "![](../Photo/45.png)"
   ]
  },
  {
   "cell_type": "code",
   "execution_count": 18,
   "metadata": {},
   "outputs": [
    {
     "name": "stdout",
     "output_type": "stream",
     "text": [
      "请输入三个整数:9,6,5\n",
      "5 6 9\n"
     ]
    }
   ],
   "source": [
    "a,b,c = eval(input(\"请输入三个整数:\"))\n",
    "if a>b and a>c:\n",
    "    if(b>c):\n",
    "        print(c,b,a)\n",
    "elif a>b and a>c:\n",
    "    if(b<c):\n",
    "        print(b,c,a)\n",
    "elif b>a and b>c:\n",
    "    if(a>c):\n",
    "        print(c,a,b)\n",
    "elif b>a and b>c:\n",
    "    if(c>a):\n",
    "        print(a,c,b)\n",
    "elif c>a and c>b:\n",
    "    if(a>b):\n",
    "        print(b,a,c)\n",
    "else:\n",
    "        print(a,b,c)\n",
    "\n",
    "                        \n",
    "    \n",
    "        \n"
   ]
  },
  {
   "cell_type": "markdown",
   "metadata": {},
   "source": [
    "- 5\n",
    "![](../Photo/46.png)"
   ]
  },
  {
   "cell_type": "code",
   "execution_count": 24,
   "metadata": {},
   "outputs": [
    {
     "name": "stdout",
     "output_type": "stream",
     "text": [
      "Enter weight and price for package:50,24.59\n",
      "Enter weight and price for package:25,11.99\n",
      "Package 2 has the better price 11.99\n"
     ]
    }
   ],
   "source": [
    "a,b = eval(input(\"Enter weight and price for package:\"))\n",
    "c,d = eval(input(\"Enter weight and price for package:\"))\n",
    "if b>d:\n",
    "    print(\"Package 2 has the better price\" ,d)\n",
    "else:\n",
    "    print(\"Package 1 has the better price\" ,b)"
   ]
  },
  {
   "cell_type": "markdown",
   "metadata": {},
   "source": [
    "- 6\n",
    "![](../Photo/47.png)"
   ]
  },
  {
   "cell_type": "code",
   "execution_count": 27,
   "metadata": {},
   "outputs": [
    {
     "name": "stdout",
     "output_type": "stream",
     "text": [
      "Enter month and year:3,2005\n",
      "2005 年 3 月份有31天\n"
     ]
    }
   ],
   "source": [
    "month,year = eval(input(\"Enter month and year:\"))\n",
    "if (year%4==0 and year%100!=0) or year%400==0:\n",
    "    if(month==2):\n",
    "        print(year,\"年\",month,\"月份有29天\")\n",
    "    elif (month==4 or month==6 or month==9 or month==11):\n",
    "        print(year,\"年\",month,\"月份有30天\")\n",
    "    else:\n",
    "        print(year,\"年\",month,\"月份有31天\")\n",
    "else:\n",
    "    if(month==2):\n",
    "        print(year,\"年\",month,\"月份有28天\")\n",
    "    elif (month==4 or month==6 or month==9 or month==11):\n",
    "        print(year,\"年\",month,\"月份有30天\")\n",
    "    else:\n",
    "        print(year,\"年\",month,\"月份有31天\")\n"
   ]
  },
  {
   "cell_type": "markdown",
   "metadata": {},
   "source": [
    "- 7\n",
    "![](../Photo/48.png)"
   ]
  },
  {
   "cell_type": "code",
   "execution_count": 34,
   "metadata": {},
   "outputs": [
    {
     "name": "stdout",
     "output_type": "stream",
     "text": [
      "请猜正反面？\n",
      "请输入猜测值0\n",
      "结果真\n"
     ]
    }
   ],
   "source": [
    "import random\n",
    "a=random.randint(0,1)\n",
    "print(\"请猜正反面？\")\n",
    "feet = eval(input(\"请输入猜测值\"))\n",
    "if feet==a:\n",
    "    print(\"结果真\")\n",
    "else:\n",
    "    print(\"结果假\") "
   ]
  },
  {
   "cell_type": "markdown",
   "metadata": {},
   "source": [
    "- 8\n",
    "![](../Photo/49.png)"
   ]
  },
  {
   "cell_type": "code",
   "execution_count": 35,
   "metadata": {},
   "outputs": [
    {
     "name": "stdout",
     "output_type": "stream",
     "text": [
      "scissor(0),rock(1),paper(2)1\n",
      "The computer is 1 You are 1 It is a draw\n"
     ]
    }
   ],
   "source": [
    "import random\n",
    "a=random.randint(0,3)\n",
    "feet = eval(input(\"scissor(0),rock(1),paper(2)\"))\n",
    "if a==0 and feet==2:\n",
    "    print(\"The computer is\",a ,\"You are\",feet,\"You won\")\n",
    "elif a==0 and feet==1:\n",
    "    print(\"The computer is\",a ,\"You are\",feet,\"Computer won\")\n",
    "elif a==1 and feet==0:\n",
    "    print(\"The computer is\",a ,\"You are\",feet,\"Computer won\")\n",
    "elif a==1 and feet==2:\n",
    "    print(\"The computer is\",a ,\"You are\",feet,\"You won\")\n",
    "elif a==2 and feet==0:\n",
    "    print(\"The computer is\",a ,\"You are\",feet,\"You won\")\n",
    "elif a==2 and feet==1:\n",
    "    print(\"The computer is\",a ,\"You are\",feet,\"Computer won\")\n",
    "else:\n",
    "    print(\"The computer is\",a ,\"You are\",feet,\"It is a draw\")\n",
    "\n",
    "    "
   ]
  },
  {
   "cell_type": "markdown",
   "metadata": {},
   "source": [
    "- 9\n",
    "![](../Photo/50.png)"
   ]
  },
  {
   "cell_type": "code",
   "execution_count": 13,
   "metadata": {},
   "outputs": [
    {
     "name": "stdout",
     "output_type": "stream",
     "text": [
      "Enter year:(e.g.,2008)2013\n",
      "Enter month:1-12:1\n",
      "Enter the day of the month:1-31:25\n",
      "Day of the week is 6\n"
     ]
    }
   ],
   "source": [
    "year = eval(input(\"Enter year:(e.g.,2008)\"))\n",
    "m = eval(input(\"Enter month:1-12:\"))\n",
    "q = eval(input(\"Enter the day of the month:1-31:\"))\n",
    "j = (year/100)//1\n",
    "k = year%100\n",
    "if m==1:\n",
    "    m=13\n",
    "    year=year-1\n",
    "    t=(year/100)//1\n",
    "    c=year%100\n",
    "    h = int((q+((26*(m+1)/10)//1)+c+(c/4)//1+(t/4)//1+5*t)%7)\n",
    "    print(\"Day of the week is\",h)\n",
    "elif m==2:\n",
    "    m=14\n",
    "    year=year-1\n",
    "    t=(year/100)//1\n",
    "    c=year%100\n",
    "    h = int((q+((26*(m+1)/10)//1)+c+(c/4)//1+(t/4)//1+5*t)%7)\n",
    "    print(\"Day of the week is\",h)\n",
    "else:\n",
    "    h = int((q+((26*(m+1)/10)//1)+k+(k/4)//1+(j/4)//1+5*j)%7)\n",
    "    print(\"Day of the week is\",h)\n"
   ]
  },
  {
   "cell_type": "markdown",
   "metadata": {},
   "source": [
    "- 10\n",
    "![](../Photo/51.png)"
   ]
  },
  {
   "cell_type": "code",
   "execution_count": 5,
   "metadata": {},
   "outputs": [
    {
     "name": "stdout",
     "output_type": "stream",
     "text": [
      "请抽取一张牌(0...12)0\n",
      "请选择花色(0...3)0\n",
      "The card you picked is the Ace of Meihua\n"
     ]
    }
   ],
   "source": [
    "a = eval(input(\"请抽取一张牌(0...12)\"))\n",
    "b = eval(input(\"请选择花色(0...3)\"))\n",
    "if a==0:\n",
    "    u=\"Ace\"\n",
    "elif a==1:\n",
    "    u=2\n",
    "elif a==2:\n",
    "    u=3\n",
    "elif a==3:\n",
    "    u=4\n",
    "elif a==4:\n",
    "    u=5\n",
    "elif a==5:\n",
    "    u=6\n",
    "elif a==6:\n",
    "    u=7\n",
    "elif a==7:\n",
    "    u=8\n",
    "elif a==8:\n",
    "    u=9\n",
    "elif a==9:\n",
    "    u=10\n",
    "elif a==10:\n",
    "    u=\"Jack\"\n",
    "elif a==11:\n",
    "    u=\"Queen\"\n",
    "else:\n",
    "    u=\"King\"\n",
    "if b==0:\n",
    "    print(\"The card you picked is the\" ,u , \"of Meihua\" )\n",
    "elif b==1:\n",
    "    print(\"The card you picked is the\" ,u , \"of Hearts\" )\n",
    "elif b==2:\n",
    "    print(\"The card you picked is the\" ,u , \"of Fangkuai\" )\n",
    "else:\n",
    "    print(\"The card you picked is the\" ,u , \"of Heitao\" )\n"
   ]
  },
  {
   "cell_type": "markdown",
   "metadata": {},
   "source": [
    "- 11\n",
    "![](../Photo/52.png)"
   ]
  },
  {
   "cell_type": "code",
   "execution_count": 3,
   "metadata": {},
   "outputs": [
    {
     "name": "stdout",
     "output_type": "stream",
     "text": [
      "Enter a three-digit integer:123\n",
      "123 is not a palindrome\n"
     ]
    }
   ],
   "source": [
    "a = eval(input(\"Enter a three-digit integer:\"))\n",
    "x=a//100\n",
    "y=a//10%10\n",
    "z=a%10\n",
    "if x==z:\n",
    "    print(a,\"is a palindrome\")\n",
    "else:\n",
    "    print(a,\"is not a palindrome\")\n"
   ]
  },
  {
   "cell_type": "markdown",
   "metadata": {},
   "source": [
    "- 12\n",
    "![](../Photo/53.png)"
   ]
  },
  {
   "cell_type": "code",
   "execution_count": 4,
   "metadata": {},
   "outputs": [
    {
     "name": "stdout",
     "output_type": "stream",
     "text": [
      "Enter three edges:1,1,1\n",
      "The perimeter is 3\n"
     ]
    }
   ],
   "source": [
    "a,b,c = eval(input(\"Enter three edges:\"))\n",
    "d=a+b+c\n",
    "if (a+b)>c and (a+c)>c and (b+c)>a:\n",
    "    print(\"The perimeter is\",d)\n",
    "else:\n",
    "     print(\"这个输入是非法的\")\n",
    "\n"
   ]
  }
 ],
 "metadata": {
  "kernelspec": {
   "display_name": "Python 3",
   "language": "python",
   "name": "python3"
  },
  "language_info": {
   "codemirror_mode": {
    "name": "ipython",
    "version": 3
   },
   "file_extension": ".py",
   "mimetype": "text/x-python",
   "name": "python",
   "nbconvert_exporter": "python",
   "pygments_lexer": "ipython3",
   "version": "3.6.1"
  }
 },
 "nbformat": 4,
 "nbformat_minor": 2
}
