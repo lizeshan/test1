{
 "cells": [
  {
   "cell_type": "markdown",
   "metadata": {},
   "source": [
    "# 更多字符串和特殊方法\n",
    "- 前面我们已经学了类，在Python中还有一些特殊的方法起着非常重要的作用，这里会介绍一些特殊的方法和运算符的重载，以及使用特殊方法设计类"
   ]
  },
  {
   "cell_type": "code",
   "execution_count": 17,
   "metadata": {
    "collapsed": true
   },
   "outputs": [
    {
     "name": "stdout",
     "output_type": "stream",
     "text": [
      "陈萌,010-116321,M,19000101,北京市海淀区苏州街3号大恒科技大厦北座6层,100080,10116,010-82808028,010-82828028-208,chenmeng@dist.com.cn,0\n",
      "\n",
      "贾新格,0282,M,19000101,河北省石家庄栾城县城南一公里,051430,13831193762,0311-88030066,0311-88030088,info@shineway.com,0\n",
      "\n",
      "李锦花,010-125321,F,19000101,北京市海淀区蓝靛厂南路25号牛顿办公区南座6层,100097,10125,010-88400202,010-88400260,\n",
      "\n",
      "张俊莲,010-130321,F,19000101,北京市三环东路11号北京中医药大学京港湾宾馆239房间,100029,10130,010-51292052/3-802,010-51292052/3-811,zjl1008@sina.com,\n",
      "\n",
      "曹守月,010-142321,F,19000101,北京市丰台区定安东里18号楼4门4031室,100007,10142,010-67687044,010-67687044,baiguoshouyue@sina.com ,\n",
      "\n",
      "杨立华,010-186321,F,19000101,北京市朝阳区大屯路风林西奥中心A座8D,100101,13942697025,010-64869596/0411-668895950,0411-66885195,anna_yang@roiland.com,\n",
      "\n",
      "戴影兰,021-044321,M,19000101,上海金桥出口加工区云桥路280号,201206,21044,021-28995000*208,021-50315077,jane.dai@parker.com,\n",
      "\n",
      "赵国良,021-127321,M,19000101,上海市虹口区银欣路38号麒麟大厦607室,200008,21127,021-55150244,021-55150344,\n",
      "\n",
      "朱晨弘,021-151321,F,19000101,上海莘庄光华路968号,201108,21151,021-61451188,021-61452602,reception.china@eurotherm.com ,\n",
      "\n",
      "邬佳丽,021-166321,F,19000101,上海市徐汇区虹桥路808号加华上午中心A-8510,200030,21166,021-64481180-105,021-64479122,wujiali@scaltex.cn ,\n",
      "\n",
      "孙恒,021-215321,M,19000101,上海市浦东新区张江中心路218弄66号2楼,201210,13918381512,021-50202418,021-50200908,sunheng@jrseac.com,\n",
      "\n",
      "王莹,021-224321,F,19000101,上海市嘉定区封浜宝园五路301号,201812,21224,021-69136448/247,021-69136466,y.wang@argus.net.cn,\n",
      "\n",
      "张彗,021-243321,F,19000101,上海市浦东蛾山路91弄120号浦东软件园8号楼8楼,200127,21243,021-68860643*8103,021-68861316,yvonne.zhang@cn.bureauveritas.com ,\n",
      "\n",
      "蒋昭红,021-293321,F,19000101,上海市西康路223号南三楼,200040,13801837369,021-62476887,021-62792565,jiangzhaohong@51shsd.com,\n",
      "\n",
      "陈瑶,021-345321,M,19000101,上海市徐汇区中山西路1800号21楼J1座,200235,21345,021-64400575,021-64400575-808,\n",
      "\n",
      "张峥,027-108321,F,19000101,湖北省武汉市东湖高新区武大科技园,430223,27108,027-87196373,027-87196377,zhangz@hbsanhuan.com.cn ,\n",
      "\n",
      "冯彬玲,029-107321,F,19000101,西安市科技二路68号西安软件园汉韵阁B座101,710075,29107,029-87669400-211,029-87669400-213,sarah_feng@newsoft.com.cn ,\n",
      "\n",
      "叶鹏来,0510-106321,M,19000101,江苏省无锡市锡山区北环路118号,214191,510106,0510-81018859,0510-81018856,ypl@bcstainless.com ,\n",
      "\n",
      "陈曦,0531-101321,F,19000101,山东济南千佛东路41-1号,250014,531101,0531-82963478*6350,0531-82961844,chen_xi@cvicse.com,\n",
      "\n",
      "王惠兰,0571-120321,F,19000101,浙江省杭州市萧山区南阳经济技术开发区,311227,571120,0571-22817277,0571-22817353,amanda@ztex.cn ,\n",
      "\n",
      "陈效,0571-124321,F,19000101,杭州市西湖区西溪路128号新湖商务大楼5楼,310000,571124,0571-89986970,0571-89986972,llcx2002@163.com ,\n",
      "\n",
      "裴芬,0571-125321,F,19000101,杭州市天目山路160号国际花园东11A,310007,571125,0571-28990084,0571-88212209,fenpi8499@sina.com ,\n",
      "\n",
      "曹阳,32010619720506042x,F,19720506,-,210005,13770848687,025-842019149,-,cy_qing@163.com,0\n",
      "\n",
      "孙旸,310104198405232812,M,19840523,上海市瑞金二路129弄6号,-,13764090424,-,-,gemini9991@gmail.com,\n",
      "\n",
      "jingjing,420105197404030028,F,19740403,-,430060,15871377772,027-88219588,-,74jingjing@163.com,0\n",
      "\n",
      "潘国鹏,370683198103193217,M,19810319,山东省日照市北京路中段,276826,13561928865,0633-2212069,0633-2219189,ipavee@163.com,0\n",
      "\n",
      "徐争鸣,420106196809074071,M,19680907,武汉市珞狮南路517号,430070,13396056892,027-88112719,027-88139967,zhengming_xu520@sina.com.cn,0\n",
      "\n",
      "陈妍,210212831019104,F,19831019,-,-,15942693196,-,-,cy_1019@hotmail.com,\n",
      "\n",
      "吴晓龙,360430198405111111,M,19840511,-,-,13916082774,-,-,velax_wu@sohu.com,0\n",
      "\n",
      "王洵,320502197310210545,F,19731021,-,-,13915503066,-,-,zd.wh@163.com,0\n",
      "\n",
      "周建华,320602196511302041,F,19651130,上海市普陀区石湾路7弄51号503室,200063,13817627228,021-52682026,021-52682947,hd6418@hotmail.com,\n",
      "\n",
      "王蓉蓉,610104198212296167,F,19821229,西安市太白南路181号西部电子社区A-A-405,710065,15809225561,029-88228743,-,228302198@qq.com,\n",
      "\n",
      "于泳,510212197001300311,M,19700130,-,-,13020151291,-,-,hnch@sohu.com,\n",
      "\n",
      "袁满,510104197601230278,M,19760123,-,-,13331119399,-,-,manyuan123@vip.sina.com,\n",
      "\n",
      "胡坤,212959748,M,19720405,-,-,886921881249,-,-,hukunk@yahoo.com.tw,\n",
      "\n",
      "石,310105820907209,M,19820907,-,-,13501880996,-,-,ericshi0907@hotmail.com,\n",
      "\n",
      "朱为准,330302198403275618,M,19840327,-,-,15821178545,-,-,zhuweizhun@163.com,\n",
      "\n",
      "钟敏,310109198401104575,M,19840110,\n",
      "\n",
      "徐海峰,32092219720416241x,M,19720416,-,-,13905113599,-,-,jsslxhf@sina.com,0\n",
      "\n",
      "王潇荔,230302801118472,M,19801118,-,-,13061402829,-,-,mulian@sohu.com,\n",
      "\n",
      "种亚男,110103197809221521,F,19780922,-,-,13438009040,-,-,nan2222@sohu.com,\n",
      "\n",
      "唐杰,34270119671002045,M,19671002,黄山市屯溪区长干路49号,245000,15905599970,0559-2517799,0559-2513637,tjfyp67@sina.com,\n",
      "\n",
      "付义平,362202198112230315,M,19811223,-,-,13564365896,-,-,fuyiping3222@sina.com.cn,\n",
      "\n",
      "鲁雅萍,310104198411216843,F,19841121,-,-,13817546366,-,-,emily841121@hotmail.com,0\n",
      "\n",
      "陈爱武,452423198009072843,M,19800907,-,-,13510119286,-,-,candy.chen@elcoteq.com,\n",
      "\n",
      "梁湘,460100197408010628,F,19740801,-,-,13876011768,-,-,dundunbaby@hotmail.com,\n",
      "\n",
      "鲍晨飞,330402197906030939,M,19790603,杭州市下城区体育场路335号,200233,\n",
      "\n",
      "董明,362334197910255316,M,19791025,-,-,13564201164,-,-,dmqianlicao@163.com,\n",
      "\n",
      "尹崇博,210423198101010032,M,19810101,武川路78弄18楼702,200433,13917312949,021-55071744,-,yinchbo@yahoo.com.cn,\n",
      "\n",
      "姚汉春,320902197805013537,M,19780501,-亭湖区盐湾村六组88号,224003,13851082212,0515-88555600,-,yaodavy@163.com,0\n",
      "\n",
      "韩德胜,110108730722571,M,19730722,-,-,13801953210,-,-,rhzpy@hotmail.com,\n",
      "\n",
      "于银学,230103830213221,M,19830213,-,-,13811490900,-,-,yuyinxue_HLJ@hotmail.com,\n",
      "\n",
      "齐凌宇,350103197802271512,M,19780227,-,-,13817759566,-,-,dienqi@163.com,0\n",
      "\n",
      "张文,330282198801219175,M,19880121,浙江省慈溪市周巷镇三江口村牛角尖,-,\n",
      "\n",
      "张可夫,620104830202111,M,19830202,唐山市,-,15830450054,-,-,kefuu@163.com,\n",
      "\n",
      "罗洁,330602198307111521,F,19830711,-,312000,13857525378,-,-,fanny7450@hotmail.com,0\n",
      "\n",
      "李益全,0490414202,M,19660308,上海市嘉定區博樂路258號,201800,18918801689,18918801689,021-39540487,18918801689@189.CN,0\n",
      "\n",
      "蔡涛,510702197504251237,M,19750425,成都市,\n",
      "\n",
      "杜俊国,430111198610010750,M,19861001,-,-,13811131573,-,-,woaini_zhaoqi@163.com,0\n",
      "\n",
      "谷鹏,210602197910273515,M,19791027,-,-,13520704123,-,-,gupeng@mail.buct.edu.cn,\n",
      "\n",
      "秦佳,320281198708225035,M,19870822,-,-,13851728224,-,-,qinjia1987js@163.com,\n",
      "\n",
      "谷晨蕊,110102198101160020,F,19810116,\n",
      "\n",
      "王炎,320811198401011514,M,19840101,江苏省淮安市承德北路28号,223001,13805239035,0517-83669209,-,murenwy@163.com,\n",
      "\n",
      "李亚辉,43010319651007167X,M,19651007,卡属公司,518057,13510381278,-,-,lyahui@sogou.com,0\n",
      "\n",
      "张百刚,32030219760511201x,M,19760511,-,-,13327946880,-,-,xzzhbg@126.com,0\n",
      "\n",
      "范玲敏,320684198011174947,F,19801117,海门市复兴新村,226100,13921662365,0513-82211065,-,fan2210@sina.com,\n",
      "\n",
      "刘泓,320106630913202,F,19630913,-,-,13913010929,-,-,li8337@126.com,0\n",
      "\n",
      "刘博莹,411323198410140028,F,19841014,-,-,13663057666,-,-,lby2621@163.com,\n",
      "\n",
      "曹彦彬,150425197812160039,M,19781216,-,-,13910309687,-,-,allen2039@163.com,0\n",
      "\n",
      "白松园,120224198707310017,M,19870731,天津市宝坻区开元路10号,301800,13672191119,-,-,bsy6688@126.com,0\n",
      "\n",
      "charlie chu,483823476,M,19511021,-上海市虹桥路430号,-200030,18018674090,-02164641680,-,chuchar123@yahoo.com,0\n",
      "\n",
      "赵梦溪,410103198303082427,F,19830308,-,-,13608691642,-,-,296170582@qq.com,\n",
      "\n",
      "胡美娜,340402198402081229,F,19840208,-,-,13601320994,-,-,haoxinqing2010@163.com,0\n",
      "\n",
      "徐旸,430103197302221519,M,19730222,-,-,13925066016,-,-,xutommy1219@yahoo.com.cn,\n",
      "\n",
      "顾佳佳,310109830919456,F,19830919,-,-,13817353288,-,-,ahergongzhu@hotmail.com,\n",
      "\n",
      "戚长鹤,362101198112180010,M,19811218,江西赣州东胜山15号2栋604,-,13870774167,-,-,qchaini@163.com,\n",
      "\n",
      "陈伟,320107197208164212,M,19720816,-,-,13816333169,-,-,roger0816@126.com,0\n",
      "\n",
      "姜艳彬,230521198112022713,M,19811202,-,-,13795189595,-,-,jyb_613@163.com,\n",
      "\n",
      "徐磊,210202198110151213,M,19811015,大连市中山区宪卫里10#3-3-3,115013,13940990151,0411-82666567,-,leo_xu@dl.cn,\n",
      "\n",
      "薛立伟,22072419811019021x,M,19811019,-,-,13810348400,-,-,5868322@163.com,0\n",
      "\n",
      "李茂瑞,372833731115061,M,19731115,-,-,15980920503,-,-,HEROLI0988@YAHOO.COM.CN,0\n",
      "\n",
      "童秋君,33022717790814056,F,19000101,宁波市江南春晓124号504室,315040,13989308173,-,-,tongchristin@hotmail.com,\n",
      "\n",
      "窦茹锐,120109198308250011,M,19830825,天津市大港区胜利街三春里19-4-302,300270,13752080808,022-63377808,-,dou_rurui@hotmail.com,0\n",
      "\n",
      "安然,130204198001043021,F,19800104,1,\n",
      "\n",
      "王律锋,330411198203075437,M,19820307,浙江省宁波市江北区环城北路东段378弄95号2幢402室,-,\n",
      "\n",
      "TAN KEOK BENG,S1590428C,M,19630905,104 ALJUNIED CRESCENT #08-245 SINGAPORE,380104,15959229864,65-81383198,65-68468446,keoktrading@yahoo.com.sg,\n",
      "\n",
      "戴钰,230602198202183226,M,19820218,-,-,13136876182,-,-,daiyu521@hotmail.com,0\n",
      "\n",
      "严圣明,350426198707231032,M,19870723,福建省厦门市集美区印斗路21号,361021,13656023978,\n",
      "\n",
      "徐翔,310109196105301612,M,19610530,-,-,18916116762,-,-,xu0xiang0@yahoo.com.cn,0\n",
      "\n",
      "毕澜潇,371081198602090023,F,19860209,-,-,13884637257,-,-,wind_sheets@hotmail.com,\n",
      "\n",
      "vivi,253366,M,19000101,-,-,012556925666,-,-,vivivivi11oo@yahoo.com.tw,\n",
      "\n",
      "刘晓晔,310104830802122,M,19830802,-,-,13817606702,-,-,liuxiaoye1983@hotmail.com,\n",
      "\n",
      "董嵩林,370203198607140318,M,19860714,-,-,13502175115,-,-,dongsonglin2000@yahoo.com.cn,\n",
      "\n",
      "宋晓辰,310107198404192512,M,19840419,-,-,13817059146,-,-,headeasy@126.com,0\n",
      "\n",
      "李文勇,442525197111170038,M,19711117,广东省河源市源城区岗古岭西三巷3栋2号,\n",
      "\n",
      "刘娜,410311198003132024,M,19800313,-,-,13817743039,-,-,liunapublic@hotmail.com,\n",
      "\n",
      "stone66,321102197704140454,M,19770414,-,-,13761576410,-,-,stonezhao66@163.com,\n",
      "\n",
      "赵江,220104198004072617,M,19800407,\n",
      "\n",
      "赵逸明,210102198802045619,M,19880204,-,-,18602464632,-,-,kent8824@qq.com,0\n",
      "\n",
      "张剑秋,310109198708314593,M,19870831,-,-,13621599330,-,-,zjq0902@hotmail.com,0\n",
      "\n"
     ]
    }
   ],
   "source": [
    "file_path='C:\\\\Users\\\\Administrator\\\\Desktop\\\\kaifangX.txt'\n",
    "with open(file_path,mode='r',encoding='gbk') as f:\n",
    "    for i in range(100):\n",
    "        print(f.readline())"
   ]
  },
  {
   "cell_type": "markdown",
   "metadata": {},
   "source": [
    "## str 类\n",
    "- 一个str对象是不可变的，也就是说，一旦创建了这个字符串，那么它的内容在认为不改变的情况下是不会变的\n",
    "- s1 = str()\n",
    "- s2 = str('welcome to Python')"
   ]
  },
  {
   "cell_type": "code",
   "execution_count": 18,
   "metadata": {},
   "outputs": [
    {
     "data": {
      "text/plain": [
       "''"
      ]
     },
     "execution_count": 18,
     "metadata": {},
     "output_type": "execute_result"
    }
   ],
   "source": [
    "str()"
   ]
  },
  {
   "cell_type": "code",
   "execution_count": 19,
   "metadata": {},
   "outputs": [
    {
     "data": {
      "text/plain": [
       "'100'"
      ]
     },
     "execution_count": 19,
     "metadata": {},
     "output_type": "execute_result"
    }
   ],
   "source": [
    "str(100).__str__()"
   ]
  },
  {
   "cell_type": "code",
   "execution_count": 20,
   "metadata": {},
   "outputs": [
    {
     "data": {
      "text/plain": [
       "'joker'"
      ]
     },
     "execution_count": 20,
     "metadata": {},
     "output_type": "execute_result"
    }
   ],
   "source": [
    "str('joker')\n"
   ]
  },
  {
   "cell_type": "code",
   "execution_count": 21,
   "metadata": {
    "collapsed": true
   },
   "outputs": [],
   "source": [
    "class test:\n",
    "    def __int__(self,p=''):\n",
    "        self.p=p\n",
    "    def __str__(self):\n",
    "        return '{}'.format(self.p)"
   ]
  },
  {
   "cell_type": "code",
   "execution_count": 25,
   "metadata": {},
   "outputs": [
    {
     "ename": "TypeError",
     "evalue": "object() takes no parameters",
     "output_type": "error",
     "traceback": [
      "\u001b[1;31m---------------------------------------------------------------------------\u001b[0m",
      "\u001b[1;31mTypeError\u001b[0m                                 Traceback (most recent call last)",
      "\u001b[1;32m<ipython-input-25-99f80f6584a4>\u001b[0m in \u001b[0;36m<module>\u001b[1;34m()\u001b[0m\n\u001b[1;32m----> 1\u001b[1;33m \u001b[0ma\u001b[0m\u001b[1;33m=\u001b[0m\u001b[0mtest\u001b[0m\u001b[1;33m(\u001b[0m\u001b[1;36m100\u001b[0m\u001b[1;33m)\u001b[0m\u001b[1;33m\u001b[0m\u001b[0m\n\u001b[0m\u001b[0;32m      2\u001b[0m \u001b[0mprint\u001b[0m\u001b[1;33m(\u001b[0m\u001b[0ma\u001b[0m\u001b[1;33m)\u001b[0m\u001b[1;33m\u001b[0m\u001b[0m\n",
      "\u001b[1;31mTypeError\u001b[0m: object() takes no parameters"
     ]
    }
   ],
   "source": [
    "a=test(100)\n",
    "print(a)"
   ]
  },
  {
   "cell_type": "code",
   "execution_count": 26,
   "metadata": {},
   "outputs": [
    {
     "data": {
      "text/plain": [
       "1902939584"
      ]
     },
     "execution_count": 26,
     "metadata": {},
     "output_type": "execute_result"
    }
   ],
   "source": [
    "id(256)"
   ]
  },
  {
   "cell_type": "markdown",
   "metadata": {},
   "source": [
    "## 创建两个对象，分别观察两者id\n",
    "- id为Python内存地址"
   ]
  },
  {
   "cell_type": "markdown",
   "metadata": {},
   "source": [
    "## 处理字符串的函数\n",
    "- len\n",
    "- max\n",
    "- min\n",
    "- 字符串一切是按照ASCII码值进行比较"
   ]
  },
  {
   "cell_type": "code",
   "execution_count": null,
   "metadata": {
    "collapsed": true
   },
   "outputs": [],
   "source": []
  },
  {
   "cell_type": "markdown",
   "metadata": {},
   "source": [
    "## 下角标运算符 []\n",
    "- 一个字符串是一个字符序列，可以通过索引进行访问\n",
    "- 观察字符串是否是一个可迭代序列  \\__iter__"
   ]
  },
  {
   "cell_type": "code",
   "execution_count": 28,
   "metadata": {},
   "outputs": [
    {
     "data": {
      "text/plain": [
       "'joke'"
      ]
     },
     "execution_count": 28,
     "metadata": {},
     "output_type": "execute_result"
    }
   ],
   "source": [
    "qq='joker'\n",
    "qq[0:-1]"
   ]
  },
  {
   "cell_type": "code",
   "execution_count": 29,
   "metadata": {},
   "outputs": [
    {
     "data": {
      "text/plain": [
       "'jokerlala'"
      ]
     },
     "execution_count": 29,
     "metadata": {},
     "output_type": "execute_result"
    }
   ],
   "source": [
    "a1='joker'\n",
    "a2='lala'\n",
    "a1+a2"
   ]
  },
  {
   "cell_type": "code",
   "execution_count": 32,
   "metadata": {},
   "outputs": [
    {
     "data": {
      "text/plain": [
       "'joker*lala'"
      ]
     },
     "execution_count": 32,
     "metadata": {},
     "output_type": "execute_result"
    }
   ],
   "source": [
    "\"*\".join((a1,a2))\n"
   ]
  },
  {
   "cell_type": "code",
   "execution_count": 31,
   "metadata": {},
   "outputs": [
    {
     "data": {
      "text/plain": [
       "'jokerjokerjokerjokerjoker'"
      ]
     },
     "execution_count": 31,
     "metadata": {},
     "output_type": "execute_result"
    }
   ],
   "source": [
    "a1*5"
   ]
  },
  {
   "cell_type": "markdown",
   "metadata": {},
   "source": [
    "## 切片 [start: end]\n",
    "- start 默认值为0\n",
    "- end 默认值为-1"
   ]
  },
  {
   "cell_type": "markdown",
   "metadata": {},
   "source": [
    "## 链接运算符 + 和复制运算符 *\n",
    "- \\+ 链接多个字符串，同时''.join()也是\n",
    "- \\* 复制多个字符串"
   ]
  },
  {
   "cell_type": "code",
   "execution_count": 35,
   "metadata": {},
   "outputs": [
    {
     "data": {
      "text/plain": [
       "'jokerjokerjokerjokerjoker*jokerjokerjokerjokerjoker*jokerjokerjokerjokerjoker*jokerjokerjokerjokerjoker*jokerjokerjokerjokerjoker'"
      ]
     },
     "execution_count": 35,
     "metadata": {},
     "output_type": "execute_result"
    }
   ],
   "source": [
    "A='jokerjokerjokerjokerjoker'\n",
    "B='jokerjokerjokerjokerjoker'\n",
    "C='jokerjokerjokerjokerjoker'\n",
    "D='jokerjokerjokerjokerjoker'\n",
    "E='jokerjokerjokerjokerjoker'\n",
    "\"*\".join((A,B,C,D,E))"
   ]
  },
  {
   "cell_type": "markdown",
   "metadata": {},
   "source": [
    "## in 和 not in 运算符\n",
    "- in :判断某个字符是否在字符串内 \n",
    "- not in ：判断某个字符是否不在字符串内\n",
    "- 返回的是布尔值"
   ]
  },
  {
   "cell_type": "code",
   "execution_count": 37,
   "metadata": {},
   "outputs": [
    {
     "data": {
      "text/plain": [
       "True"
      ]
     },
     "execution_count": 37,
     "metadata": {},
     "output_type": "execute_result"
    }
   ],
   "source": [
    "a1='joker'\n",
    "'j' in a1\n"
   ]
  },
  {
   "cell_type": "code",
   "execution_count": null,
   "metadata": {
    "collapsed": true
   },
   "outputs": [],
   "source": []
  },
  {
   "cell_type": "markdown",
   "metadata": {},
   "source": [
    "## 比较字符串\n",
    "-  ==, !=, >=, <=, >, <\n",
    "- 依照ASCII码值进行比较"
   ]
  },
  {
   "cell_type": "code",
   "execution_count": 39,
   "metadata": {},
   "outputs": [
    {
     "name": "stdout",
     "output_type": "stream",
     "text": [
      "96661152 96661152\n"
     ]
    },
    {
     "data": {
      "text/plain": [
       "True"
      ]
     },
     "execution_count": 39,
     "metadata": {},
     "output_type": "execute_result"
    }
   ],
   "source": [
    "a3='257'\n",
    "a4='257'\n",
    "print(id(a3),id(a4))\n",
    "a3 is a4\n"
   ]
  },
  {
   "cell_type": "code",
   "execution_count": 40,
   "metadata": {},
   "outputs": [
    {
     "data": {
      "text/plain": [
       "True"
      ]
     },
     "execution_count": 40,
     "metadata": {},
     "output_type": "execute_result"
    }
   ],
   "source": [
    "A1='hahahah'\n",
    "A1.isalnum()"
   ]
  },
  {
   "cell_type": "code",
   "execution_count": 41,
   "metadata": {},
   "outputs": [
    {
     "data": {
      "text/plain": [
       "False"
      ]
     },
     "execution_count": 41,
     "metadata": {},
     "output_type": "execute_result"
    }
   ],
   "source": [
    "A1='hahahah '\n",
    "A1.isalnum()"
   ]
  },
  {
   "cell_type": "code",
   "execution_count": 44,
   "metadata": {},
   "outputs": [
    {
     "data": {
      "text/plain": [
       "False"
      ]
     },
     "execution_count": 44,
     "metadata": {},
     "output_type": "execute_result"
    }
   ],
   "source": [
    "A2='hahahah1'\n",
    "A2.isalpha()"
   ]
  },
  {
   "cell_type": "markdown",
   "metadata": {},
   "source": [
    "## 测试字符串\n",
    "![](../Photo/99.png)\n",
    "- 注意：\n",
    "> - isalnum() 中是不能包含空格，否则会返回False"
   ]
  },
  {
   "cell_type": "markdown",
   "metadata": {},
   "source": [
    "## 搜索子串\n",
    "![](../Photo/100.png)"
   ]
  },
  {
   "cell_type": "code",
   "execution_count": 45,
   "metadata": {},
   "outputs": [
    {
     "data": {
      "text/plain": [
       "True"
      ]
     },
     "execution_count": 45,
     "metadata": {},
     "output_type": "execute_result"
    }
   ],
   "source": [
    "A5='hahahah1'\n",
    "A5.startswith('h')"
   ]
  },
  {
   "cell_type": "code",
   "execution_count": 56,
   "metadata": {
    "collapsed": true
   },
   "outputs": [],
   "source": [
    "A5='hahahah1'"
   ]
  },
  {
   "cell_type": "code",
   "execution_count": 57,
   "metadata": {},
   "outputs": [
    {
     "data": {
      "text/plain": [
       "4"
      ]
     },
     "execution_count": 57,
     "metadata": {},
     "output_type": "execute_result"
    }
   ],
   "source": [
    "A5.count('h')"
   ]
  },
  {
   "cell_type": "code",
   "execution_count": 1,
   "metadata": {
    "collapsed": true
   },
   "outputs": [
    {
     "name": "stdout",
     "output_type": "stream",
     "text": [
      "李泽山,513723198812271677,M,19881227,仓山区六一南路118号防损部                                汇达永辉超市,350000,13635264323,08276952103,\n",
      "\n",
      "李泽山,220521198004238718,M,19800423,郑州市金水区经八路29号,\n",
      "\n",
      "李泽山,370202195007141114,M,19500714,山东省青岛市市南区福州南路38号7号楼2单元401,\n",
      "\n",
      "李泽山,410927196306258016,M,19630625,河南省台前县夹河乡楚庄村198号,\n",
      "\n"
     ]
    },
    {
     "ename": "KeyboardInterrupt",
     "evalue": "",
     "output_type": "error",
     "traceback": [
      "\u001b[1;31m---------------------------------------------------------------------------\u001b[0m",
      "\u001b[1;31mKeyboardInterrupt\u001b[0m                         Traceback (most recent call last)",
      "\u001b[1;32m<ipython-input-1-cdd34c1174ae>\u001b[0m in \u001b[0;36m<module>\u001b[1;34m()\u001b[0m\n\u001b[0;32m      2\u001b[0m \u001b[1;32mwith\u001b[0m \u001b[0mopen\u001b[0m\u001b[1;33m(\u001b[0m\u001b[0mfile_path\u001b[0m\u001b[1;33m,\u001b[0m\u001b[0mmode\u001b[0m\u001b[1;33m=\u001b[0m\u001b[1;34m'r'\u001b[0m\u001b[1;33m,\u001b[0m\u001b[0mencoding\u001b[0m\u001b[1;33m=\u001b[0m\u001b[1;34m'gbk'\u001b[0m\u001b[1;33m,\u001b[0m\u001b[0merrors\u001b[0m\u001b[1;33m=\u001b[0m\u001b[1;34m'ignore'\u001b[0m\u001b[1;33m)\u001b[0m \u001b[1;32mas\u001b[0m \u001b[0mf\u001b[0m\u001b[1;33m:\u001b[0m\u001b[1;33m\u001b[0m\u001b[0m\n\u001b[0;32m      3\u001b[0m     \u001b[1;32mwhile\u001b[0m \u001b[1;32mTrue\u001b[0m\u001b[1;33m:\u001b[0m\u001b[1;33m\u001b[0m\u001b[0m\n\u001b[1;32m----> 4\u001b[1;33m         \u001b[0mline\u001b[0m \u001b[1;33m=\u001b[0m \u001b[0mf\u001b[0m\u001b[1;33m.\u001b[0m\u001b[0mreadline\u001b[0m\u001b[1;33m(\u001b[0m\u001b[1;33m)\u001b[0m\u001b[1;33m\u001b[0m\u001b[0m\n\u001b[0m\u001b[0;32m      5\u001b[0m         \u001b[1;32mif\u001b[0m \u001b[0mline\u001b[0m\u001b[1;33m.\u001b[0m\u001b[0mfind\u001b[0m\u001b[1;33m(\u001b[0m\u001b[1;34m'李泽山'\u001b[0m\u001b[1;33m)\u001b[0m\u001b[1;33m!=\u001b[0m\u001b[1;33m-\u001b[0m\u001b[1;36m1\u001b[0m\u001b[1;33m:\u001b[0m\u001b[1;33m\u001b[0m\u001b[0m\n\u001b[0;32m      6\u001b[0m             \u001b[0mprint\u001b[0m\u001b[1;33m(\u001b[0m\u001b[0mline\u001b[0m\u001b[1;33m)\u001b[0m\u001b[1;33m\u001b[0m\u001b[0m\n",
      "\u001b[1;31mKeyboardInterrupt\u001b[0m: "
     ]
    }
   ],
   "source": [
    "file_path='C:\\\\Users\\\\Administrator\\\\Desktop\\\\kaifangX.txt'\n",
    "with open(file_path,mode='r',encoding='gbk',errors='ignore') as f:\n",
    "    while True:\n",
    "        line = f.readline()\n",
    "        if line.find('李泽山')!=-1:\n",
    "            print(line)"
   ]
  },
  {
   "cell_type": "markdown",
   "metadata": {},
   "source": [
    "## 转换字符串\n",
    "![](../Photo/101.png)"
   ]
  },
  {
   "cell_type": "code",
   "execution_count": 3,
   "metadata": {},
   "outputs": [
    {
     "data": {
      "text/plain": [
       "'Joker'"
      ]
     },
     "execution_count": 3,
     "metadata": {},
     "output_type": "execute_result"
    }
   ],
   "source": [
    "n='joker'\n",
    "n.capitalize()"
   ]
  },
  {
   "cell_type": "code",
   "execution_count": 12,
   "metadata": {
    "collapsed": true
   },
   "outputs": [],
   "source": [
    "from captcha.image import ImageCaptcha\n",
    "import numpy as np\n",
    "from PIL import Image\n",
    "import random\n",
    "import sys"
   ]
  },
  {
   "cell_type": "code",
   "execution_count": 13,
   "metadata": {
    "collapsed": true
   },
   "outputs": [],
   "source": [
    "number = ['1','2','3','4','5','6','7','8','9','0']\n",
    "Alphabet = ['A','B','C','D','E','F','G','H','I','J','K','L','M','N','O','P','Q','R','S','T','U','V','W','X','Y','Z']\n",
    "alphabet = ['a','b','c','d','e','f','g','h','i','j','k','l','m','n','o','p','q','r','s','t','u','v','w','x','y','z']"
   ]
  },
  {
   "cell_type": "code",
   "execution_count": 14,
   "metadata": {
    "collapsed": true
   },
   "outputs": [],
   "source": [
    "def random_captcha_text(char_set = number, captcah_size = 4):\n",
    "    # 验证码列表\n",
    "    captcha_text = []\n",
    "    for i in range(captcah_size):\n",
    "        # 随机选择\n",
    "        c = random.choice(char_set)\n",
    "        # 加入验证码列表\n",
    "        captcha_text.append(c)\n",
    "    return captcha_text"
   ]
  },
  {
   "cell_type": "code",
   "execution_count": 15,
   "metadata": {
    "collapsed": true
   },
   "outputs": [],
   "source": [
    "# 生成字符串对应列表\n",
    "def gen_captcha_text_and_image():\n",
    "    image = ImageCaptcha()\n",
    "    # 获得随机生成验证码\n",
    "    captcha_text = random_captcha_text()\n",
    "    # 把验证码转成字符串\n",
    "    captcha_text = ''.join(captcha_text)\n",
    "    # 生成验证码\n",
    "    captcha = image.generate(captcha_text)\n",
    "    image.write(captcha_text,'C:\\\\Users\\Administrator\\Desktop' + captcha_text + '.jpg') # 写入文件"
   ]
  },
  {
   "cell_type": "code",
   "execution_count": 17,
   "metadata": {},
   "outputs": [
    {
     "name": "stdout",
     "output_type": "stream",
     "text": [
      ">> Creating image 10/10\n",
      "生成完毕\n"
     ]
    }
   ],
   "source": [
    "# 生成验证码数量，其数量会少于10000，因为会有重复出现\n",
    "\n",
    "num = 10\n",
    "if __name__ == '__main__':\n",
    "    for i in range(num):\n",
    "        gen_captcha_text_and_image()\n",
    "        sys.stdout.write('\\r>> Creating image %d/%d'%(i+1,num))\n",
    "    sys.stdout.write('\\n')\n",
    "    sys.stdout.flush()\n",
    "    print('生成完毕')"
   ]
  },
  {
   "cell_type": "markdown",
   "metadata": {},
   "source": [
    "## 删除字符串\n",
    "![](../Photo/102.png)"
   ]
  },
  {
   "cell_type": "code",
   "execution_count": 18,
   "metadata": {},
   "outputs": [
    {
     "data": {
      "text/plain": [
       "'testaa'"
      ]
     },
     "execution_count": 18,
     "metadata": {},
     "output_type": "execute_result"
    }
   ],
   "source": [
    "a='testaa  '\n",
    "a.strip()"
   ]
  },
  {
   "cell_type": "code",
   "execution_count": 19,
   "metadata": {},
   "outputs": [
    {
     "data": {
      "text/plain": [
       "'testaa'"
      ]
     },
     "execution_count": 19,
     "metadata": {},
     "output_type": "execute_result"
    }
   ],
   "source": [
    "a='tes taa  '\n",
    "a.strip()\n",
    "a.replace(' ','')"
   ]
  },
  {
   "cell_type": "code",
   "execution_count": 21,
   "metadata": {},
   "outputs": [
    {
     "data": {
      "text/plain": [
       "'**testaa**'"
      ]
     },
     "execution_count": 21,
     "metadata": {},
     "output_type": "execute_result"
    }
   ],
   "source": [
    "a='testaa'\n",
    "a.center(10,'*')"
   ]
  },
  {
   "cell_type": "markdown",
   "metadata": {},
   "source": [
    "## 格式化字符串\n",
    "![](../Photo/103.png)"
   ]
  },
  {
   "cell_type": "code",
   "execution_count": 22,
   "metadata": {},
   "outputs": [
    {
     "data": {
      "text/plain": [
       "['1', '2', '3', '4', '5', '6']"
      ]
     },
     "execution_count": 22,
     "metadata": {},
     "output_type": "execute_result"
    }
   ],
   "source": [
    "e='1,2,3,4,5,6'\n",
    "e.split(',')"
   ]
  },
  {
   "cell_type": "code",
   "execution_count": 30,
   "metadata": {},
   "outputs": [
    {
     "data": {
      "text/plain": [
       "134952400"
      ]
     },
     "execution_count": 30,
     "metadata": {},
     "output_type": "execute_result"
    }
   ],
   "source": [
    "s1='Welcome to python'\n",
    "id(s1)"
   ]
  },
  {
   "cell_type": "markdown",
   "metadata": {},
   "source": [
    "## EP:\n",
    "- 1\n",
    "![](../Photo/104.png)\n",
    "- 2 \n",
    "    随机参数100个数字，将www.baidu.com/?page=进行拼接"
   ]
  },
  {
   "cell_type": "code",
   "execution_count": 34,
   "metadata": {},
   "outputs": [
    {
     "data": {
      "text/plain": [
       "'www.baidu.com/?page=4'"
      ]
     },
     "execution_count": 34,
     "metadata": {},
     "output_type": "execute_result"
    }
   ],
   "source": [
    "import random\n",
    "a=random.randint(0,100)\n",
    "'www.baidu.com/?page='+str(a)"
   ]
  },
  {
   "cell_type": "markdown",
   "metadata": {},
   "source": [
    "## Python高级使用方法 -- 字符串\n",
    "- 我们经常使用的方法实际上就是调用Python的运算重载\n",
    "![](../Photo/105.png)"
   ]
  },
  {
   "cell_type": "code",
   "execution_count": 45,
   "metadata": {
    "collapsed": true
   },
   "outputs": [],
   "source": [
    "class test2:\n",
    "    def __init__(self,number):\n",
    "        self.number=number\n",
    "    def __sub__(self,other):\n",
    "        return self.number-other"
   ]
  },
  {
   "cell_type": "code",
   "execution_count": 46,
   "metadata": {
    "collapsed": true
   },
   "outputs": [],
   "source": [
    "a=test2(100)\n"
   ]
  },
  {
   "cell_type": "code",
   "execution_count": 47,
   "metadata": {},
   "outputs": [
    {
     "data": {
      "text/plain": [
       "90"
      ]
     },
     "execution_count": 47,
     "metadata": {},
     "output_type": "execute_result"
    }
   ],
   "source": [
    "a.__sub__(10)"
   ]
  },
  {
   "cell_type": "code",
   "execution_count": 44,
   "metadata": {},
   "outputs": [
    {
     "data": {
      "text/plain": [
       "True"
      ]
     },
     "execution_count": 44,
     "metadata": {},
     "output_type": "execute_result"
    }
   ],
   "source": [
    "a100='a'\n",
    "a100.__lt__('b')"
   ]
  },
  {
   "cell_type": "code",
   "execution_count": null,
   "metadata": {
    "collapsed": true
   },
   "outputs": [],
   "source": [
    "class Inf:\n",
    "    def __lt__"
   ]
  },
  {
   "cell_type": "markdown",
   "metadata": {},
   "source": [
    "# Homework\n",
    "- 1\n",
    "![](../Photo/106.png)"
   ]
  },
  {
   "cell_type": "code",
   "execution_count": 9,
   "metadata": {},
   "outputs": [
    {
     "name": "stdout",
     "output_type": "stream",
     "text": [
      "Enter ddd-dd-dddd: 888-88-8888\n",
      "Valid SSN\n"
     ]
    }
   ],
   "source": [
    "a=eval(input(\"Enter ddd-dd-dddd: \"))\n",
    "if(a==888-88-8888):\n",
    "    print('Valid SSN')\n",
    "else:\n",
    "    ('Invalid SSN')\n"
   ]
  },
  {
   "cell_type": "markdown",
   "metadata": {},
   "source": [
    "- 2\n",
    "![](../Photo/107.png)"
   ]
  },
  {
   "cell_type": "code",
   "execution_count": 55,
   "metadata": {},
   "outputs": [
    {
     "name": "stdout",
     "output_type": "stream",
     "text": [
      "输入一个字符串: qwert\n",
      "输入一个字符串: wer\n",
      "是\n"
     ]
    }
   ],
   "source": [
    "a=(input(\"输入一个字符串: \"))\n",
    "b=(input(\"输入一个字符串: \"))\n",
    "if b.find(a)==-1:\n",
    "    print('是')\n",
    "else:\n",
    "    ('不是')"
   ]
  },
  {
   "cell_type": "markdown",
   "metadata": {},
   "source": [
    "- 3\n",
    "![](../Photo/108.png)"
   ]
  },
  {
   "cell_type": "code",
   "execution_count": 4,
   "metadata": {},
   "outputs": [
    {
     "name": "stdout",
     "output_type": "stream",
     "text": [
      "输入密码: 89ertyyi\n",
      "valid password\n"
     ]
    }
   ],
   "source": [
    "num=0\n",
    "a=input(\"输入密码: \")\n",
    "if len(a)>=8:\n",
    "    for i in a:\n",
    "        if 97<=ord(i)<=122 or 48<=ord(i)<=57 or 65<=ord(i)<=90:\n",
    "            if 48<=ord(i)<=57:\n",
    "                num+=1\n",
    "        else:\n",
    "            print('invalid password')\n",
    "    if num<2:\n",
    "        print('invalid password')\n",
    "    else:\n",
    "        print('valid password')\n",
    "else:\n",
    "    print('invalid password')\n",
    "    "
   ]
  },
  {
   "cell_type": "markdown",
   "metadata": {},
   "source": [
    "- 4\n",
    "![](../Photo/109.png)"
   ]
  },
  {
   "cell_type": "code",
   "execution_count": 5,
   "metadata": {},
   "outputs": [
    {
     "name": "stdout",
     "output_type": "stream",
     "text": [
      "输入字符串: qwedff\n"
     ]
    }
   ],
   "source": [
    "a=input(\"输入字符串: \")\n",
    "def countLetters(s):\n",
    "    sum=0\n",
    "    for i in s:\n",
    "        if 65<=ord(i)<=90 or 97<=ord(i)<=122:\n",
    "            sum+=1\n",
    "    return sum\n",
    "    print(d)   \n"
   ]
  },
  {
   "cell_type": "code",
   "execution_count": 6,
   "metadata": {},
   "outputs": [
    {
     "name": "stdout",
     "output_type": "stream",
     "text": [
      "6\n"
     ]
    }
   ],
   "source": [
    "print(countLetters(a))"
   ]
  },
  {
   "cell_type": "markdown",
   "metadata": {},
   "source": [
    "- 5\n",
    "![](../Photo/110.png)"
   ]
  },
  {
   "cell_type": "code",
   "execution_count": 12,
   "metadata": {},
   "outputs": [
    {
     "name": "stdout",
     "output_type": "stream",
     "text": [
      "enter a string:1-800-Flowers\n",
      "1-800-3569377\n"
     ]
    }
   ],
   "source": [
    "def getNumber(uppercaseLetter):\n",
    "    ystr=''\n",
    "    for i in uppercaseLetter:\n",
    "        if 97<=ord(i)<=122 or 65<=ord(i)<=90:\n",
    "            if 0<=ord(i)-97<=2 or 0<=ord(i)-65<=2:\n",
    "                newchar='2'\n",
    "            elif 3<=ord(i)-97<=5 or 3<=ord(i)-65<=5:\n",
    "                newchar='3'\n",
    "            elif 6<=ord(i)-97<=8 or 6<=ord(i)-65<=8:\n",
    "                newchar='4'\n",
    "            elif 9<=ord(i)-97<=11 or 9<=ord(i)-65<=11:\n",
    "                newchar='5'\n",
    "            elif 12<=ord(i)-97<=14 or 12<=ord(i)-65<=14:\n",
    "                newchar='6'\n",
    "            elif 15<=ord(i)-97<=18 or 15<=ord(i)-65<=18:\n",
    "                newchar='7'\n",
    "            elif 19<=ord(i)-97<=21 or 19<=ord(i)-65<=21:\n",
    "                newchar='8'\n",
    "            elif 22<=ord(i)-97<=25 or 22<=ord(i)-65<=25:\n",
    "                newchar='9'\n",
    "        else:\n",
    "            newchar=i\n",
    "        ystr=ystr+newchar\n",
    "    return ystr\n",
    "num=input('enter a string:')\n",
    "print(getNumber(num))\n",
    "                "
   ]
  },
  {
   "cell_type": "markdown",
   "metadata": {},
   "source": [
    "- 6\n",
    "![](../Photo/111.png)"
   ]
  },
  {
   "cell_type": "code",
   "execution_count": 3,
   "metadata": {},
   "outputs": [
    {
     "name": "stdout",
     "output_type": "stream",
     "text": [
      "输入字符串:1234\n",
      "4321\n"
     ]
    }
   ],
   "source": [
    "def reverse(s):\n",
    "    ts=''\n",
    "    for i in s[-1::-1]:\n",
    "        ts=ts+i\n",
    "    return ts\n",
    "rr=input('输入字符串:')\n",
    "print(reverse(rr))"
   ]
  },
  {
   "cell_type": "markdown",
   "metadata": {},
   "source": [
    "- 7\n",
    "![](../Photo/112.png)"
   ]
  },
  {
   "cell_type": "code",
   "execution_count": 4,
   "metadata": {
    "collapsed": true
   },
   "outputs": [],
   "source": [
    "def luhn_checksum(card_number):\n",
    "    def digits_of(n):\n",
    "        return [int(d) for d in str(n)]\n",
    "    digits = digits_of(card_number)\n",
    "    odd_digits = digits[-1::-2]\n",
    "    even_digits = digits[-2::-2]\n",
    "    checksum = 0\n",
    "    checksum += sum(odd_digits)\n",
    "    for d in even_digits:\n",
    "        checksum += sum(digits_of(d*2))\n",
    "    return checksum % 10\n",
    "def is_luhn_valid(card_number):\n",
    "    return luhn_checksum(card_number) == 0"
   ]
  },
  {
   "cell_type": "code",
   "execution_count": 5,
   "metadata": {},
   "outputs": [
    {
     "name": "stdout",
     "output_type": "stream",
     "text": [
      "输入卡号:88888888888888888\n",
      "卡号非法！\n"
     ]
    }
   ],
   "source": [
    "numstr=input('输入卡号:')\n",
    "if is_luhn_valid(numstr)==True:\n",
    "    print('卡号合法！')\n",
    "else:\n",
    "    \n",
    "    print('卡号非法！')"
   ]
  },
  {
   "cell_type": "markdown",
   "metadata": {},
   "source": [
    "- 8\n",
    "![](../Photo/113.png)"
   ]
  },
  {
   "cell_type": "code",
   "execution_count": 6,
   "metadata": {},
   "outputs": [
    {
     "name": "stdout",
     "output_type": "stream",
     "text": [
      "Enter the first 12 digits of an ISBN-13 as a string:9780132130790\n",
      "97801321307900\n"
     ]
    }
   ],
   "source": [
    "b=input('Enter the first 12 digits of an ISBN-13 as a string:')\n",
    "num=0\n",
    "for i in range(0,12):\n",
    "    if i%2==0:\n",
    "        num=num+ord(b[i])-48\n",
    "    else:\n",
    "        num=num+(ord(b[i])-48)*3\n",
    "num=(10-num%10)%10\n",
    "print(b+str(num))"
   ]
  },
  {
   "cell_type": "markdown",
   "metadata": {},
   "source": [
    "- 9\n",
    "![](../Photo/114.png)"
   ]
  },
  {
   "cell_type": "code",
   "execution_count": 7,
   "metadata": {
    "collapsed": true
   },
   "outputs": [],
   "source": [
    "class Rectangle2D():\n",
    "    def __init__(self,x=0,y=0,width=0,height=0):\n",
    "        self.x=x\n",
    "        self.y=y\n",
    "        self.width=width\n",
    "        self.height=height\n",
    "    def setx(self,x):\n",
    "        self.x=x\n",
    "    def setx(self,y):\n",
    "        self.y=y\n",
    "    def setx(self,width):\n",
    "        self.width=width\n",
    "    def setx(self,height):\n",
    "        self.height=height\n",
    "    def getx(self):\n",
    "        return self.x\n",
    "    def gety(self):\n",
    "        return self.y\n",
    "    def getwidth(self):\n",
    "        return self.width\n",
    "    def getheight(self):\n",
    "        return self.height\n",
    "    def getArea(self):\n",
    "        return self.width*self.height\n",
    "    def getPerimiter(self):\n",
    "        return self.width*2+self.height*2\n",
    "    def containsPoint(self,x,y):\n",
    "        if abs(self.x-x)<self.width/2 and abs(self.y-y)<self.height/2:\n",
    "            return True\n",
    "        else:\n",
    "            return False\n",
    "    def contains(self,R2):\n",
    "        if abs(self.x-R2.x)<=R2.width/2 and abs(self.y-R2.y)<=R2.height/2:\n",
    "            return True\n",
    "        else:\n",
    "            return False\n",
    "    def overlaps(self,R2):\n",
    "        if R2.width/2<abs(self.x-R2.x)<(R2.width+self.width)/2 and R2.height/2<abs(self.y-R2.y)<(self.height+R2.height)/2:\n",
    "            return True\n",
    "        else:\n",
    "            return False\n",
    "        "
   ]
  },
  {
   "cell_type": "code",
   "execution_count": 8,
   "metadata": {},
   "outputs": [
    {
     "name": "stdout",
     "output_type": "stream",
     "text": [
      "enter x1,y1,width1,height1:9,1.3,10,35.3\n",
      "enter x2,y2,width2,height2:1.3,4.3,4,5.3\n",
      "Area for r1 is  353.0\n",
      "Perimeters for r1 is 90.6\n",
      "Area for r2 is  21.2\n",
      "Perimeters for r2 is 18.6\n",
      "r1 contains the center r2？ False\n",
      "r1 contains r2? False\n",
      "r1 overlaps r2? False\n"
     ]
    }
   ],
   "source": [
    "x1,y1,width1,height1=eval(input('enter x1,y1,width1,height1:'))\n",
    "R1=Rectangle2D(x1,y1,width1,height1)\n",
    "x2,y2,width2,height2=eval(input('enter x2,y2,width2,height2:'))\n",
    "R2=Rectangle2D(x2,y2,width2,height2)\n",
    "print('Area for r1 is ',R1.getArea())\n",
    "print('Perimeters for r1 is',R1.getPerimiter())\n",
    "print('Area for r2 is ',R2.getArea())\n",
    "print('Perimeters for r2 is',R2.getPerimiter())\n",
    "print('r1 contains the center r2？',R1.containsPoint(R2.getx(),R2.gety()))\n",
    "print('r1 contains r2?',R1.contains(R2))\n",
    "print('r1 overlaps r2?',R1.overlaps(R2))"
   ]
  }
 ],
 "metadata": {
  "kernelspec": {
   "display_name": "Python 3",
   "language": "python",
   "name": "python3"
  },
  "language_info": {
   "codemirror_mode": {
    "name": "ipython",
    "version": 3
   },
   "file_extension": ".py",
   "mimetype": "text/x-python",
   "name": "python",
   "nbconvert_exporter": "python",
   "pygments_lexer": "ipython3",
   "version": "3.6.1"
  }
 },
 "nbformat": 4,
 "nbformat_minor": 2
}
